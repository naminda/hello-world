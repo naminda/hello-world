{
  "nbformat": 4,
  "nbformat_minor": 0,
  "metadata": {
    "colab": {
      "name": "Copy of MLFoundations-B3-Quiz-01_naminda.ipynb",
      "provenance": [],
      "collapsed_sections": [],
      "include_colab_link": true
    },
    "kernelspec": {
      "name": "python3",
      "display_name": "Python 3"
    },
    "language_info": {
      "name": "python"
    }
  },
  "cells": [
    {
      "cell_type": "markdown",
      "metadata": {
        "id": "view-in-github",
        "colab_type": "text"
      },
      "source": [
        "<a href=\"https://colab.research.google.com/github/naminda/hello-world/blob/master/Copy_of_MLFoundations_B3_Quiz_01_naminda.ipynb\" target=\"_parent\"><img src=\"https://colab.research.google.com/assets/colab-badge.svg\" alt=\"Open In Colab\"/></a>"
      ]
    },
    {
      "cell_type": "markdown",
      "metadata": {
        "id": "yRJKZ3JzD1qv"
      },
      "source": [
        "# Dataset: Bank Marketing Data Set\n",
        "Source: UCI Machine Learning Repository [http://archive.ics.uci.edu/ml]"
      ]
    },
    {
      "cell_type": "markdown",
      "metadata": {
        "id": "bUH66kVQeLvz"
      },
      "source": [
        "# Student Name: Naminda Jayawardana\n",
        "# Date : 12/06/2022"
      ]
    },
    {
      "cell_type": "markdown",
      "metadata": {
        "id": "hEzWLTnPBgif"
      },
      "source": [
        "# Assignment Instructions\n",
        "* You will be given 12 tasks to complete the code cells.\n",
        "* Provide your code ONLY in between hash (#) lines.\n",
        "* Do not add or moidfy code outside the hash (#) lines\n",
        "* In some tasks, you may find place holders (<<?>>) to replace by a expression/variable/function to complete the code.\n",
        "* Example answer is provided for some tasks\n",
        "\n",
        "### Example:\n",
        "Task 0: create variable nameed `a` and assign value `3.14`. Then print the value of `a`.\n",
        "\n",
        "```python\n",
        "#create variable nameed a and assign value 3.14. Then print the value of a.\n",
        "###############################\n",
        "a = 3.14\n",
        "print(a)\n",
        "###############################\n",
        "```\n",
        "\n"
      ]
    },
    {
      "cell_type": "markdown",
      "metadata": {
        "id": "Dtumfyuk-9tg"
      },
      "source": [
        "## 1. Load Python Modules"
      ]
    },
    {
      "cell_type": "code",
      "metadata": {
        "id": "dOHDFQl3-gq6"
      },
      "source": [
        "import numpy as np\n",
        "import pandas as pd\n",
        "import matplotlib.pyplot as plt\n",
        "import seaborn as sns"
      ],
      "execution_count": 60,
      "outputs": []
    },
    {
      "cell_type": "markdown",
      "metadata": {
        "id": "8PWD7IAT-6VZ"
      },
      "source": [
        "## 2. Acquire Data to Work"
      ]
    },
    {
      "cell_type": "markdown",
      "source": [
        "* Task 1: Load CSV File from the above URL into Pandas DataFrame."
      ],
      "metadata": {
        "id": "wDbpN4Aijl5I"
      }
    },
    {
      "cell_type": "code",
      "metadata": {
        "id": "cT5UlBts-1rg",
        "colab": {
          "base_uri": "https://localhost:8080/",
          "height": 270
        },
        "outputId": "e56d90ee-f780-4721-9c6f-0812e32ab4c6"
      },
      "source": [
        "file_name = 'https://raw.githubusercontent.com/SumuduTennakoon/MLFoundations/main/Datasets/bank_marketing_dataset.csv'\n",
        "\n",
        "# Task 1: Complete the code below to load CSV File from the above URL into Pandas DataFrame\n",
        "# Hint: Fill <<1>> with the appropriate function name\n",
        "#############################################################\n",
        "\n",
        "\n",
        "data = pd.read_csv(file_name, sep=',')\n",
        " \n",
        "#############################################################\n",
        "\n",
        "data.sample(5)"
      ],
      "execution_count": 61,
      "outputs": [
        {
          "output_type": "execute_result",
          "data": {
            "text/plain": [
              "        age     job_type marital_status  education has_credit_in_default  \\\n",
              "37688  33.0  blue-collar        married  secondary                    no   \n",
              "21894  39.0   management        married   tertiary                    no   \n",
              "18080  32.0     services        married  secondary                    no   \n",
              "25083  39.0  blue-collar        married    primary                    no   \n",
              "44668  32.0     services         single   tertiary                    no   \n",
              "\n",
              "       average_yearly_balance has_housing_loan has_personal_loan contact_type  \\\n",
              "37688                     705              yes                no     cellular   \n",
              "21894                    5060              yes                no     cellular   \n",
              "18080                     -31               no               yes    telephone   \n",
              "25083                     111               no                no     cellular   \n",
              "44668                     620               no                no     cellular   \n",
              "\n",
              "       last_contact_day last_contact_month  last_contact_duration  \\\n",
              "37688                14                may                    112   \n",
              "21894                20                aug                    157   \n",
              "18080                30                jul                     96   \n",
              "25083                18                nov                    201   \n",
              "44668                 3                sep                    110   \n",
              "\n",
              "       number_of_contacts  days_since_previous_campaign_contact  \\\n",
              "37688                   2                                  -1.0   \n",
              "21894                   4                                  -1.0   \n",
              "18080                   6                                  -1.0   \n",
              "25083                   2                                  -1.0   \n",
              "44668                   6                                  95.0   \n",
              "\n",
              "       previous_campaign_contacts previous_campaign_outcome is_subscribed  \n",
              "37688                         0.0                   unknown            no  \n",
              "21894                         0.0                   unknown            no  \n",
              "18080                         0.0                   unknown            no  \n",
              "25083                         0.0                   unknown            no  \n",
              "44668                         5.0                     other            no  "
            ],
            "text/html": [
              "\n",
              "  <div id=\"df-4ffe5ef0-b4ab-4dcf-9447-5f9e7658ca3d\">\n",
              "    <div class=\"colab-df-container\">\n",
              "      <div>\n",
              "<style scoped>\n",
              "    .dataframe tbody tr th:only-of-type {\n",
              "        vertical-align: middle;\n",
              "    }\n",
              "\n",
              "    .dataframe tbody tr th {\n",
              "        vertical-align: top;\n",
              "    }\n",
              "\n",
              "    .dataframe thead th {\n",
              "        text-align: right;\n",
              "    }\n",
              "</style>\n",
              "<table border=\"1\" class=\"dataframe\">\n",
              "  <thead>\n",
              "    <tr style=\"text-align: right;\">\n",
              "      <th></th>\n",
              "      <th>age</th>\n",
              "      <th>job_type</th>\n",
              "      <th>marital_status</th>\n",
              "      <th>education</th>\n",
              "      <th>has_credit_in_default</th>\n",
              "      <th>average_yearly_balance</th>\n",
              "      <th>has_housing_loan</th>\n",
              "      <th>has_personal_loan</th>\n",
              "      <th>contact_type</th>\n",
              "      <th>last_contact_day</th>\n",
              "      <th>last_contact_month</th>\n",
              "      <th>last_contact_duration</th>\n",
              "      <th>number_of_contacts</th>\n",
              "      <th>days_since_previous_campaign_contact</th>\n",
              "      <th>previous_campaign_contacts</th>\n",
              "      <th>previous_campaign_outcome</th>\n",
              "      <th>is_subscribed</th>\n",
              "    </tr>\n",
              "  </thead>\n",
              "  <tbody>\n",
              "    <tr>\n",
              "      <th>37688</th>\n",
              "      <td>33.0</td>\n",
              "      <td>blue-collar</td>\n",
              "      <td>married</td>\n",
              "      <td>secondary</td>\n",
              "      <td>no</td>\n",
              "      <td>705</td>\n",
              "      <td>yes</td>\n",
              "      <td>no</td>\n",
              "      <td>cellular</td>\n",
              "      <td>14</td>\n",
              "      <td>may</td>\n",
              "      <td>112</td>\n",
              "      <td>2</td>\n",
              "      <td>-1.0</td>\n",
              "      <td>0.0</td>\n",
              "      <td>unknown</td>\n",
              "      <td>no</td>\n",
              "    </tr>\n",
              "    <tr>\n",
              "      <th>21894</th>\n",
              "      <td>39.0</td>\n",
              "      <td>management</td>\n",
              "      <td>married</td>\n",
              "      <td>tertiary</td>\n",
              "      <td>no</td>\n",
              "      <td>5060</td>\n",
              "      <td>yes</td>\n",
              "      <td>no</td>\n",
              "      <td>cellular</td>\n",
              "      <td>20</td>\n",
              "      <td>aug</td>\n",
              "      <td>157</td>\n",
              "      <td>4</td>\n",
              "      <td>-1.0</td>\n",
              "      <td>0.0</td>\n",
              "      <td>unknown</td>\n",
              "      <td>no</td>\n",
              "    </tr>\n",
              "    <tr>\n",
              "      <th>18080</th>\n",
              "      <td>32.0</td>\n",
              "      <td>services</td>\n",
              "      <td>married</td>\n",
              "      <td>secondary</td>\n",
              "      <td>no</td>\n",
              "      <td>-31</td>\n",
              "      <td>no</td>\n",
              "      <td>yes</td>\n",
              "      <td>telephone</td>\n",
              "      <td>30</td>\n",
              "      <td>jul</td>\n",
              "      <td>96</td>\n",
              "      <td>6</td>\n",
              "      <td>-1.0</td>\n",
              "      <td>0.0</td>\n",
              "      <td>unknown</td>\n",
              "      <td>no</td>\n",
              "    </tr>\n",
              "    <tr>\n",
              "      <th>25083</th>\n",
              "      <td>39.0</td>\n",
              "      <td>blue-collar</td>\n",
              "      <td>married</td>\n",
              "      <td>primary</td>\n",
              "      <td>no</td>\n",
              "      <td>111</td>\n",
              "      <td>no</td>\n",
              "      <td>no</td>\n",
              "      <td>cellular</td>\n",
              "      <td>18</td>\n",
              "      <td>nov</td>\n",
              "      <td>201</td>\n",
              "      <td>2</td>\n",
              "      <td>-1.0</td>\n",
              "      <td>0.0</td>\n",
              "      <td>unknown</td>\n",
              "      <td>no</td>\n",
              "    </tr>\n",
              "    <tr>\n",
              "      <th>44668</th>\n",
              "      <td>32.0</td>\n",
              "      <td>services</td>\n",
              "      <td>single</td>\n",
              "      <td>tertiary</td>\n",
              "      <td>no</td>\n",
              "      <td>620</td>\n",
              "      <td>no</td>\n",
              "      <td>no</td>\n",
              "      <td>cellular</td>\n",
              "      <td>3</td>\n",
              "      <td>sep</td>\n",
              "      <td>110</td>\n",
              "      <td>6</td>\n",
              "      <td>95.0</td>\n",
              "      <td>5.0</td>\n",
              "      <td>other</td>\n",
              "      <td>no</td>\n",
              "    </tr>\n",
              "  </tbody>\n",
              "</table>\n",
              "</div>\n",
              "      <button class=\"colab-df-convert\" onclick=\"convertToInteractive('df-4ffe5ef0-b4ab-4dcf-9447-5f9e7658ca3d')\"\n",
              "              title=\"Convert this dataframe to an interactive table.\"\n",
              "              style=\"display:none;\">\n",
              "        \n",
              "  <svg xmlns=\"http://www.w3.org/2000/svg\" height=\"24px\"viewBox=\"0 0 24 24\"\n",
              "       width=\"24px\">\n",
              "    <path d=\"M0 0h24v24H0V0z\" fill=\"none\"/>\n",
              "    <path d=\"M18.56 5.44l.94 2.06.94-2.06 2.06-.94-2.06-.94-.94-2.06-.94 2.06-2.06.94zm-11 1L8.5 8.5l.94-2.06 2.06-.94-2.06-.94L8.5 2.5l-.94 2.06-2.06.94zm10 10l.94 2.06.94-2.06 2.06-.94-2.06-.94-.94-2.06-.94 2.06-2.06.94z\"/><path d=\"M17.41 7.96l-1.37-1.37c-.4-.4-.92-.59-1.43-.59-.52 0-1.04.2-1.43.59L10.3 9.45l-7.72 7.72c-.78.78-.78 2.05 0 2.83L4 21.41c.39.39.9.59 1.41.59.51 0 1.02-.2 1.41-.59l7.78-7.78 2.81-2.81c.8-.78.8-2.07 0-2.86zM5.41 20L4 18.59l7.72-7.72 1.47 1.35L5.41 20z\"/>\n",
              "  </svg>\n",
              "      </button>\n",
              "      \n",
              "  <style>\n",
              "    .colab-df-container {\n",
              "      display:flex;\n",
              "      flex-wrap:wrap;\n",
              "      gap: 12px;\n",
              "    }\n",
              "\n",
              "    .colab-df-convert {\n",
              "      background-color: #E8F0FE;\n",
              "      border: none;\n",
              "      border-radius: 50%;\n",
              "      cursor: pointer;\n",
              "      display: none;\n",
              "      fill: #1967D2;\n",
              "      height: 32px;\n",
              "      padding: 0 0 0 0;\n",
              "      width: 32px;\n",
              "    }\n",
              "\n",
              "    .colab-df-convert:hover {\n",
              "      background-color: #E2EBFA;\n",
              "      box-shadow: 0px 1px 2px rgba(60, 64, 67, 0.3), 0px 1px 3px 1px rgba(60, 64, 67, 0.15);\n",
              "      fill: #174EA6;\n",
              "    }\n",
              "\n",
              "    [theme=dark] .colab-df-convert {\n",
              "      background-color: #3B4455;\n",
              "      fill: #D2E3FC;\n",
              "    }\n",
              "\n",
              "    [theme=dark] .colab-df-convert:hover {\n",
              "      background-color: #434B5C;\n",
              "      box-shadow: 0px 1px 3px 1px rgba(0, 0, 0, 0.15);\n",
              "      filter: drop-shadow(0px 1px 2px rgba(0, 0, 0, 0.3));\n",
              "      fill: #FFFFFF;\n",
              "    }\n",
              "  </style>\n",
              "\n",
              "      <script>\n",
              "        const buttonEl =\n",
              "          document.querySelector('#df-4ffe5ef0-b4ab-4dcf-9447-5f9e7658ca3d button.colab-df-convert');\n",
              "        buttonEl.style.display =\n",
              "          google.colab.kernel.accessAllowed ? 'block' : 'none';\n",
              "\n",
              "        async function convertToInteractive(key) {\n",
              "          const element = document.querySelector('#df-4ffe5ef0-b4ab-4dcf-9447-5f9e7658ca3d');\n",
              "          const dataTable =\n",
              "            await google.colab.kernel.invokeFunction('convertToInteractive',\n",
              "                                                     [key], {});\n",
              "          if (!dataTable) return;\n",
              "\n",
              "          const docLinkHtml = 'Like what you see? Visit the ' +\n",
              "            '<a target=\"_blank\" href=https://colab.research.google.com/notebooks/data_table.ipynb>data table notebook</a>'\n",
              "            + ' to learn more about interactive tables.';\n",
              "          element.innerHTML = '';\n",
              "          dataTable['output_type'] = 'display_data';\n",
              "          await google.colab.output.renderOutput(dataTable, element);\n",
              "          const docLink = document.createElement('div');\n",
              "          docLink.innerHTML = docLinkHtml;\n",
              "          element.appendChild(docLink);\n",
              "        }\n",
              "      </script>\n",
              "    </div>\n",
              "  </div>\n",
              "  "
            ]
          },
          "metadata": {},
          "execution_count": 61
        }
      ]
    },
    {
      "cell_type": "code",
      "source": [
        ""
      ],
      "metadata": {
        "id": "qBY-hS2htZsi"
      },
      "execution_count": null,
      "outputs": []
    },
    {
      "cell_type": "code",
      "source": [
        ""
      ],
      "metadata": {
        "id": "vviAPa8gtPPl"
      },
      "execution_count": 51,
      "outputs": []
    },
    {
      "cell_type": "markdown",
      "source": [
        ""
      ],
      "metadata": {
        "id": "KI8fm9WzZsbE"
      }
    },
    {
      "cell_type": "markdown",
      "metadata": {
        "id": "-fIq4Fe0Eyl0"
      },
      "source": [
        "* Task 2: Find how many rows and columns this dataset. Use print stament display the value. \n",
        "> ![image.png](data:image/png;base64,iVBORw0KGgoAAAANSUhEUgAAAMMAAAAeCAYAAACR36pbAAACdUlEQVR4nO2ZsbGjMBRFaWNDlbEdOFDgWv68Hog2VwPbhWYI3YVcgkPCuwFPIAls8w1eA/+eGWYYQAjpciRhVyCEAACqTz8AIVuBMhCiUAZCFMpAiEIZCFEoAyEKZVCu1yuqqlp9a5rm000jM6EMCmXYNlP5nM9n1HWNpmlwuVwW10EZlB8hQ3CwxsAYA+vCp5/mW7wjnzIbyqD8CBkiXijDoWXwAqOjXrnNCZ4yfJgn+W1OhuBs/3Bx3xiLtF+9JA2xDqEoa8SP7pdel5UXgSTn3sleZBj63cAYgci8/s+YkkFfxhhPnpeHxDy0Xt+/vALfFeiWYP01ybmsmtfy3ZwMyBodm+nh/dBQmyeTBBLgZNzw4GQIswgpOHs/0JXZgwzB2Www6bIYZHjc/8iOT84MXpDeHsHBJjlLrCu5b3B2KFM8z6ieBfluVgaZnGI9RMpxIH/ZvXQjhZc4agU4m44eAc6abOQb3/EOh18mTQ8mSQc87f/h0hdlkH7U68uPZChlzW94P9+9LZNiA1+VodsPcM7r/nSZtC7LmUE5ggyjh5ud785kAHyxfh0FGByc0/K63EpDGZU/ogyjZeZ8grPFS9yNtMM7+qT/Iw9kGI7H74T1ZFiS78ZkKKc4k31waXOTj6d759M17oOPv+8ukxbyLhl+/f5Cnr9d1K6yj+b3/3R++bOk5S2cj+L+GY6L75c06Q8p8nf4D8OIz/7TiEItyXdjMhybtm3RNM3q2+12S2rpXsjN/ay5AyjD4fCQ/zjbHYm2bVHXNU6nE2UgpGTdWZsyENJDGQhRKAMhCmUgRKEMhCiUgRCFMhCiUAZCFMpAiPIPaeFymlrO/7UAAAAASUVORK5CYII=)"
      ]
    },
    {
      "cell_type": "code",
      "source": [
        "# Task 2: Complete the code below to print number of rows and columns.\n",
        "#############################################################\n",
        "rows=len(data.axes[0])\n",
        "columns=len(data.axes[1])\n",
        "\n",
        "#############################################################\n",
        "\n",
        "print(F\"rows = {rows}, columns={columns}\")"
      ],
      "metadata": {
        "colab": {
          "base_uri": "https://localhost:8080/"
        },
        "id": "CrP6FFmBKEDq",
        "outputId": "3eea42ab-352d-4e84-8184-61fe2d5a3533"
      },
      "execution_count": 3,
      "outputs": [
        {
          "output_type": "stream",
          "name": "stdout",
          "text": [
            "rows = 45211, columns=17\n"
          ]
        }
      ]
    },
    {
      "cell_type": "code",
      "source": [
        "data['days_since_previous_campaign_contact'].isna()\n",
        "data.loc[data['days_since_previous_campaign_contact'].isna()]"
      ],
      "metadata": {
        "id": "znRpfKp8pYMG",
        "colab": {
          "base_uri": "https://localhost:8080/",
          "height": 160
        },
        "outputId": "c0b5c10a-846e-4455-d5c7-d2fe3e1d2403"
      },
      "execution_count": 52,
      "outputs": [
        {
          "output_type": "execute_result",
          "data": {
            "text/plain": [
              "Empty DataFrame\n",
              "Columns: [age, job_type, marital_status, education, has_credit_in_default, average_yearly_balance, has_housing_loan, has_personal_loan, contact_type, last_contact_day, last_contact_month, last_contact_duration, number_of_contacts, days_since_previous_campaign_contact, previous_campaign_contacts, previous_campaign_outcome, is_subscribed, avg_yearly_balance_bin, number_of_contacts_bin, ege_bin, age_bin, education_primary, education_secondary, education_tertiary, education_unknown, job_type_admin., job_type_blue-collar, job_type_entrepreneur, job_type_housemaid, job_type_management, job_type_retired, job_type_self-employed, job_type_services, job_type_student, job_type_technician, job_type_unemployed, job_type_unknown, marital_status_divorced, marital_status_married, marital_status_single, contact_type_cellular, contact_type_telephone, contact_type_unknown, previous_campaign_outcome_failure, previous_campaign_outcome_other, previous_campaign_outcome_success, previous_campaign_outcome_unknown, avg_yearly_balance_bin_(-inf, 0.0], avg_yearly_balance_bin_(0.0, 100.0], avg_yearly_balance_bin_(100.0, 500.0], avg_yearly_balance_bin_(500.0, 1000.0], avg_yearly_balance_bin_(1000.0, 5000.0], avg_yearly_balance_bin_(5000.0, inf], age_bin_(0.0, 30.0], age_bin_(30.0, 45.0], age_bin_(45.0, 60.0], age_bin_(60.0, inf], number_of_contacts_bin_(0.0, 1.0], number_of_contacts_bin_(1.0, 2.0], number_of_contacts_bin_(2.0, 5.0], number_of_contacts_bin_(5.0, inf]]\n",
              "Index: []\n",
              "\n",
              "[0 rows x 61 columns]"
            ],
            "text/html": [
              "\n",
              "  <div id=\"df-664551da-246d-480a-9e8b-782e673e127e\">\n",
              "    <div class=\"colab-df-container\">\n",
              "      <div>\n",
              "<style scoped>\n",
              "    .dataframe tbody tr th:only-of-type {\n",
              "        vertical-align: middle;\n",
              "    }\n",
              "\n",
              "    .dataframe tbody tr th {\n",
              "        vertical-align: top;\n",
              "    }\n",
              "\n",
              "    .dataframe thead th {\n",
              "        text-align: right;\n",
              "    }\n",
              "</style>\n",
              "<table border=\"1\" class=\"dataframe\">\n",
              "  <thead>\n",
              "    <tr style=\"text-align: right;\">\n",
              "      <th></th>\n",
              "      <th>age</th>\n",
              "      <th>job_type</th>\n",
              "      <th>marital_status</th>\n",
              "      <th>education</th>\n",
              "      <th>has_credit_in_default</th>\n",
              "      <th>average_yearly_balance</th>\n",
              "      <th>has_housing_loan</th>\n",
              "      <th>has_personal_loan</th>\n",
              "      <th>contact_type</th>\n",
              "      <th>last_contact_day</th>\n",
              "      <th>...</th>\n",
              "      <th>avg_yearly_balance_bin_(1000.0, 5000.0]</th>\n",
              "      <th>avg_yearly_balance_bin_(5000.0, inf]</th>\n",
              "      <th>age_bin_(0.0, 30.0]</th>\n",
              "      <th>age_bin_(30.0, 45.0]</th>\n",
              "      <th>age_bin_(45.0, 60.0]</th>\n",
              "      <th>age_bin_(60.0, inf]</th>\n",
              "      <th>number_of_contacts_bin_(0.0, 1.0]</th>\n",
              "      <th>number_of_contacts_bin_(1.0, 2.0]</th>\n",
              "      <th>number_of_contacts_bin_(2.0, 5.0]</th>\n",
              "      <th>number_of_contacts_bin_(5.0, inf]</th>\n",
              "    </tr>\n",
              "  </thead>\n",
              "  <tbody>\n",
              "  </tbody>\n",
              "</table>\n",
              "<p>0 rows × 61 columns</p>\n",
              "</div>\n",
              "      <button class=\"colab-df-convert\" onclick=\"convertToInteractive('df-664551da-246d-480a-9e8b-782e673e127e')\"\n",
              "              title=\"Convert this dataframe to an interactive table.\"\n",
              "              style=\"display:none;\">\n",
              "        \n",
              "  <svg xmlns=\"http://www.w3.org/2000/svg\" height=\"24px\"viewBox=\"0 0 24 24\"\n",
              "       width=\"24px\">\n",
              "    <path d=\"M0 0h24v24H0V0z\" fill=\"none\"/>\n",
              "    <path d=\"M18.56 5.44l.94 2.06.94-2.06 2.06-.94-2.06-.94-.94-2.06-.94 2.06-2.06.94zm-11 1L8.5 8.5l.94-2.06 2.06-.94-2.06-.94L8.5 2.5l-.94 2.06-2.06.94zm10 10l.94 2.06.94-2.06 2.06-.94-2.06-.94-.94-2.06-.94 2.06-2.06.94z\"/><path d=\"M17.41 7.96l-1.37-1.37c-.4-.4-.92-.59-1.43-.59-.52 0-1.04.2-1.43.59L10.3 9.45l-7.72 7.72c-.78.78-.78 2.05 0 2.83L4 21.41c.39.39.9.59 1.41.59.51 0 1.02-.2 1.41-.59l7.78-7.78 2.81-2.81c.8-.78.8-2.07 0-2.86zM5.41 20L4 18.59l7.72-7.72 1.47 1.35L5.41 20z\"/>\n",
              "  </svg>\n",
              "      </button>\n",
              "      \n",
              "  <style>\n",
              "    .colab-df-container {\n",
              "      display:flex;\n",
              "      flex-wrap:wrap;\n",
              "      gap: 12px;\n",
              "    }\n",
              "\n",
              "    .colab-df-convert {\n",
              "      background-color: #E8F0FE;\n",
              "      border: none;\n",
              "      border-radius: 50%;\n",
              "      cursor: pointer;\n",
              "      display: none;\n",
              "      fill: #1967D2;\n",
              "      height: 32px;\n",
              "      padding: 0 0 0 0;\n",
              "      width: 32px;\n",
              "    }\n",
              "\n",
              "    .colab-df-convert:hover {\n",
              "      background-color: #E2EBFA;\n",
              "      box-shadow: 0px 1px 2px rgba(60, 64, 67, 0.3), 0px 1px 3px 1px rgba(60, 64, 67, 0.15);\n",
              "      fill: #174EA6;\n",
              "    }\n",
              "\n",
              "    [theme=dark] .colab-df-convert {\n",
              "      background-color: #3B4455;\n",
              "      fill: #D2E3FC;\n",
              "    }\n",
              "\n",
              "    [theme=dark] .colab-df-convert:hover {\n",
              "      background-color: #434B5C;\n",
              "      box-shadow: 0px 1px 3px 1px rgba(0, 0, 0, 0.15);\n",
              "      filter: drop-shadow(0px 1px 2px rgba(0, 0, 0, 0.3));\n",
              "      fill: #FFFFFF;\n",
              "    }\n",
              "  </style>\n",
              "\n",
              "      <script>\n",
              "        const buttonEl =\n",
              "          document.querySelector('#df-664551da-246d-480a-9e8b-782e673e127e button.colab-df-convert');\n",
              "        buttonEl.style.display =\n",
              "          google.colab.kernel.accessAllowed ? 'block' : 'none';\n",
              "\n",
              "        async function convertToInteractive(key) {\n",
              "          const element = document.querySelector('#df-664551da-246d-480a-9e8b-782e673e127e');\n",
              "          const dataTable =\n",
              "            await google.colab.kernel.invokeFunction('convertToInteractive',\n",
              "                                                     [key], {});\n",
              "          if (!dataTable) return;\n",
              "\n",
              "          const docLinkHtml = 'Like what you see? Visit the ' +\n",
              "            '<a target=\"_blank\" href=https://colab.research.google.com/notebooks/data_table.ipynb>data table notebook</a>'\n",
              "            + ' to learn more about interactive tables.';\n",
              "          element.innerHTML = '';\n",
              "          dataTable['output_type'] = 'display_data';\n",
              "          await google.colab.output.renderOutput(dataTable, element);\n",
              "          const docLink = document.createElement('div');\n",
              "          docLink.innerHTML = docLinkHtml;\n",
              "          element.appendChild(docLink);\n",
              "        }\n",
              "      </script>\n",
              "    </div>\n",
              "  </div>\n",
              "  "
            ]
          },
          "metadata": {},
          "execution_count": 52
        }
      ]
    },
    {
      "cell_type": "markdown",
      "source": [
        "* Task 3: Get Column Datails"
      ],
      "metadata": {
        "id": "XktT_EOaknLA"
      }
    },
    {
      "cell_type": "code",
      "source": [
        "# Task 3.1: Type your code below to display column names, data types and non null value counts as a table.\n",
        "# Note the columns with missing values.\n",
        "#############################################################\n",
        "\n",
        "data.info()\n",
        "#############################################################"
      ],
      "metadata": {
        "id": "GNBJzn6QkBMQ",
        "colab": {
          "base_uri": "https://localhost:8080/"
        },
        "outputId": "f3631af1-b473-4874-957f-6babd4eca2d5"
      },
      "execution_count": 53,
      "outputs": [
        {
          "output_type": "stream",
          "name": "stdout",
          "text": [
            "<class 'pandas.core.frame.DataFrame'>\n",
            "Int64Index: 20000 entries, 42014 to 24060\n",
            "Data columns (total 61 columns):\n",
            " #   Column                                   Non-Null Count  Dtype   \n",
            "---  ------                                   --------------  -----   \n",
            " 0   age                                      20000 non-null  float64 \n",
            " 1   job_type                                 20000 non-null  object  \n",
            " 2   marital_status                           20000 non-null  object  \n",
            " 3   education                                20000 non-null  object  \n",
            " 4   has_credit_in_default                    20000 non-null  int64   \n",
            " 5   average_yearly_balance                   20000 non-null  int64   \n",
            " 6   has_housing_loan                         20000 non-null  int64   \n",
            " 7   has_personal_loan                        20000 non-null  int64   \n",
            " 8   contact_type                             20000 non-null  object  \n",
            " 9   last_contact_day                         20000 non-null  int64   \n",
            " 10  last_contact_month                       20000 non-null  object  \n",
            " 11  last_contact_duration                    20000 non-null  int64   \n",
            " 12  number_of_contacts                       20000 non-null  int64   \n",
            " 13  days_since_previous_campaign_contact     20000 non-null  float64 \n",
            " 14  previous_campaign_contacts               20000 non-null  float64 \n",
            " 15  previous_campaign_outcome                20000 non-null  object  \n",
            " 16  is_subscribed                            20000 non-null  int64   \n",
            " 17  avg_yearly_balance_bin                   20000 non-null  category\n",
            " 18  number_of_contacts_bin                   20000 non-null  category\n",
            " 19  ege_bin                                  20000 non-null  category\n",
            " 20  age_bin                                  20000 non-null  category\n",
            " 21  education_primary                        20000 non-null  uint8   \n",
            " 22  education_secondary                      20000 non-null  uint8   \n",
            " 23  education_tertiary                       20000 non-null  uint8   \n",
            " 24  education_unknown                        20000 non-null  uint8   \n",
            " 25  job_type_admin.                          20000 non-null  uint8   \n",
            " 26  job_type_blue-collar                     20000 non-null  uint8   \n",
            " 27  job_type_entrepreneur                    20000 non-null  uint8   \n",
            " 28  job_type_housemaid                       20000 non-null  uint8   \n",
            " 29  job_type_management                      20000 non-null  uint8   \n",
            " 30  job_type_retired                         20000 non-null  uint8   \n",
            " 31  job_type_self-employed                   20000 non-null  uint8   \n",
            " 32  job_type_services                        20000 non-null  uint8   \n",
            " 33  job_type_student                         20000 non-null  uint8   \n",
            " 34  job_type_technician                      20000 non-null  uint8   \n",
            " 35  job_type_unemployed                      20000 non-null  uint8   \n",
            " 36  job_type_unknown                         20000 non-null  uint8   \n",
            " 37  marital_status_divorced                  20000 non-null  uint8   \n",
            " 38  marital_status_married                   20000 non-null  uint8   \n",
            " 39  marital_status_single                    20000 non-null  uint8   \n",
            " 40  contact_type_cellular                    20000 non-null  uint8   \n",
            " 41  contact_type_telephone                   20000 non-null  uint8   \n",
            " 42  contact_type_unknown                     20000 non-null  uint8   \n",
            " 43  previous_campaign_outcome_failure        20000 non-null  uint8   \n",
            " 44  previous_campaign_outcome_other          20000 non-null  uint8   \n",
            " 45  previous_campaign_outcome_success        20000 non-null  uint8   \n",
            " 46  previous_campaign_outcome_unknown        20000 non-null  uint8   \n",
            " 47  avg_yearly_balance_bin_(-inf, 0.0]       20000 non-null  uint8   \n",
            " 48  avg_yearly_balance_bin_(0.0, 100.0]      20000 non-null  uint8   \n",
            " 49  avg_yearly_balance_bin_(100.0, 500.0]    20000 non-null  uint8   \n",
            " 50  avg_yearly_balance_bin_(500.0, 1000.0]   20000 non-null  uint8   \n",
            " 51  avg_yearly_balance_bin_(1000.0, 5000.0]  20000 non-null  uint8   \n",
            " 52  avg_yearly_balance_bin_(5000.0, inf]     20000 non-null  uint8   \n",
            " 53  age_bin_(0.0, 30.0]                      20000 non-null  uint8   \n",
            " 54  age_bin_(30.0, 45.0]                     20000 non-null  uint8   \n",
            " 55  age_bin_(45.0, 60.0]                     20000 non-null  uint8   \n",
            " 56  age_bin_(60.0, inf]                      20000 non-null  uint8   \n",
            " 57  number_of_contacts_bin_(0.0, 1.0]        20000 non-null  uint8   \n",
            " 58  number_of_contacts_bin_(1.0, 2.0]        20000 non-null  uint8   \n",
            " 59  number_of_contacts_bin_(2.0, 5.0]        20000 non-null  uint8   \n",
            " 60  number_of_contacts_bin_(5.0, inf]        20000 non-null  uint8   \n",
            "dtypes: category(4), float64(3), int64(8), object(6), uint8(40)\n",
            "memory usage: 3.6+ MB\n"
          ]
        }
      ]
    },
    {
      "cell_type": "code",
      "source": [
        "# Task 3.2: Replace the missing values of the columns you identified\n",
        "# Hint 1: 'days_since_previous_campaign_contact' should be -1 when no previous campaign contacts were made.\n",
        "# Hint 2: 'previous_campaign_contacts' should be 0 if no previous campaign contacts were made.\n",
        "# Hint 3: Ignore any missing value of 'age' column. We will work on that below.\n",
        "# Hint 4: Use fillna()\n",
        "#############################################################\n",
        " \n",
        "data['days_since_previous_campaign_contact']=data['days_since_previous_campaign_contact'].fillna(-1)\n",
        "data['previous_campaign_contacts']=data['previous_campaign_contacts'].fillna(0)\n",
        "\n",
        "\n",
        "#############################################################"
      ],
      "metadata": {
        "id": "aQuBJ8KSxrJT"
      },
      "execution_count": 6,
      "outputs": []
    },
    {
      "cell_type": "code",
      "source": [
        "data['days_since_previous_campaign_contact'].isna()\n",
        "data.loc[data['days_since_previous_campaign_contact'].isna()]\n",
        "data.info()"
      ],
      "metadata": {
        "colab": {
          "base_uri": "https://localhost:8080/"
        },
        "outputId": "89c7c810-ef58-4891-e079-2ba46e6d3013",
        "id": "TTXOszFxlVoE"
      },
      "execution_count": null,
      "outputs": [
        {
          "output_type": "stream",
          "name": "stdout",
          "text": [
            "<class 'pandas.core.frame.DataFrame'>\n",
            "RangeIndex: 45211 entries, 0 to 45210\n",
            "Data columns (total 17 columns):\n",
            " #   Column                                Non-Null Count  Dtype  \n",
            "---  ------                                --------------  -----  \n",
            " 0   age                                   45210 non-null  float64\n",
            " 1   job_type                              45211 non-null  object \n",
            " 2   marital_status                        45211 non-null  object \n",
            " 3   education                             45211 non-null  object \n",
            " 4   has_credit_in_default                 45211 non-null  object \n",
            " 5   average_yearly_balance                45211 non-null  int64  \n",
            " 6   has_housing_loan                      45211 non-null  object \n",
            " 7   has_personal_loan                     45211 non-null  object \n",
            " 8   contact_type                          45211 non-null  object \n",
            " 9   last_contact_day                      45211 non-null  int64  \n",
            " 10  last_contact_month                    45211 non-null  object \n",
            " 11  last_contact_duration                 45211 non-null  int64  \n",
            " 12  number_of_contacts                    45211 non-null  int64  \n",
            " 13  days_since_previous_campaign_contact  45211 non-null  float64\n",
            " 14  previous_campaign_contacts            45211 non-null  float64\n",
            " 15  previous_campaign_outcome             45211 non-null  object \n",
            " 16  is_subscribed                         45211 non-null  object \n",
            "dtypes: float64(3), int64(4), object(10)\n",
            "memory usage: 5.9+ MB\n"
          ]
        }
      ]
    },
    {
      "cell_type": "markdown",
      "metadata": {
        "id": "-x05UuDHDf6Q"
      },
      "source": [
        "## 4. Descriptive Statistics\n",
        " \n",
        "\n"
      ]
    },
    {
      "cell_type": "markdown",
      "metadata": {
        "id": "1RfOsP9_GEp8"
      },
      "source": [
        "* Task 4: Find and display min, max, mean, median and standard deviation of the column `legs`. You may choose from different methods to do this task. below is the output from one method.\n",
        "> ![image.png](data:image/png;base64,iVBORw0KGgoAAAANSUhEUgAAAK4AAACTCAYAAAAX6CKdAAAIW0lEQVR4nO2d27WrOBAFJxXyIRwFQzCKhVQ0H36AHqhbAi7q46q15uNcmcfYZRCwu/1fADDIf0/vAEAPiAsmQVwwCeKCSRAXTIK4YBLEBZMgLpgEcW9iXeYwTVOYnD96QZinKUzTFOZlbV9e3oHq+ocfFzArrncudH6k9+PdS7h1Ca74ofjgpm3/vZtD9DJxeXEH6usfflwGce/kSDy/5B9k6cjaK660/tHHFXSL+z2VTVOYJhdc8q3xbtrG5yWs20CYpil89jM7JX5OIc4Ft1u/3zb8PcXs/+s53dzOgXjr4vIPbv8eCcvLm62vf/RxDV3irsscz73WJczTJq53iUjeZfJGX7B1CXNlfcG7TEzLR1zEfUTcNSyutpHyYT/aWY24tb8D4tY3O7aYiNu+8/+Wwzlu8v9/+RxXWP/o4wq6pwrxqXsNy7zNW/OrxET26NTvX3PZZnH323ito/fO0W3U7irsdjY/AknLv9eRzv/V6x99XKb74iy6+Mqk8bsLK2l8Dov/XJD5+OKr9Pf2f7u7SGu/nXIn8YVr4QI1fU3yjdMsXxe3vn4L4xJmb4fBb4O4YBLEBZMgLpgEccEkiAsmQVwwCeKCSRB3UA7TdUr2N/iPk3OvJ57VBwTFhwPSA6bz25dA3AHJHql/guX6FUSPyL07eBzuXXC+kBPQBOFr+3N2+woQ1wRSsCl59TJnIaZcwE8iqyJOp7iXbb9Co7ifQIzbnpO/g+HxM/PkVJKe6pIweHR0kYLkv0ghZCS9PhIlqzjYh5Q6xRU+30u2X6HjiOuD+4RadgHx/bfssIbqw+qDT6olspijECT/HeL6LPVStTlyms5rFjfbWDaVuWT7FfrE3Qz97sAmbj5x15TfNOVzf4X0C6wl/aIn+ddS+uyoEleXB67FVk9sv8I94lavgvMjSGlO9PPietc9RcryrdX374IjbiLuZduvcIO4lavIz/KR2IUQ+I+Luy5zcnotXZxV8riFCpOl9nk0ipvWFJbuglyy/Qp9F2ef+3vvC7N5Wb+H/9c+vO/PHUzg41PFHJzbLasNkv9ZCu9dc5A8XYccNk9FlLYfzWGzz+Xc9jVwOwxMgrhgEsQFkyAumARxwSSICyZBXDAJ4oJJEBdMMoC476csHSn/v8zZCoiWVvbFJ5Inx+tPxeQKConbxG3rptgWlP7rnK6A0LTq340Xt3dmXKyA6Msn7EFcEzS+P62t6qUQU+O4XAHxoLhxyMJtiS9Vq/v4VOE84lZpTMe1Nk7ORDs7LlZACBUUCvrETYLCeQyvdsRdwzLvT13Mceu0V0BoxZV+kurMeNMcvXkq1H3ElWNrh+JWC+cgorMCoueIW4sVNo8LFRCFNTSfca+Z465LmLVHXMTVcaICor1VvSRO23hbBYRm/Tld4mZXqUVxj1rdr2GZ89IdpgobpysghFb1pQqGKbkLcGZcqoAQKygUdIpbKYTc7exhq/v0As4tzHO/XFEBIbeql+ag58Y1U8laBYXMAA8gANpBXDAJ4oJJEBdMgrhgEsQFkyAumARxwSSIOypSEPzs8qOPC9wqbs+jPAhBDIKfXn70cRmOuCPSGgRvXX70cQX3tNKvnQZolS/SGktsXX70cQ23tNLfXnrQAp9W+VUQV+aWxs7bSyvi/nDjZgnElUHcEWkOgjcuP/q4AsQdknoQ/PuaziD5+OMyN7TSPwhCf97gn2+Vr0MKgp8Nko8+LsHtMDAJ4oJJEBdMgrhgEsQFkyAumARxwSSICyZBXDDJNf1xD9sDHbVK38ZJhZX5l630hxwX6BJXbvVeD01suYa8AR78g1b6w4/LXDRVSLsJIu61XNxKf/RxBdf1x02PuKpOg0wVVFzcSn/0cQ0XiKto9R6d6oT0GCRc30p/9HEN58RVt3o/ONV9J+jtc5yf4KZW+qOPa+gXt6nVe1ncrd3++Z8P+nPc2Up/9HEF3XcVaq3eta3SEbfM3a30xx+X6RBX1+pd1SqdqUKBf9NKf/RxCZ6cgUkQF0yCuGASxAWTIC6YBHHBJIgLJkFcMEmnuFJQPAhBYdJhOt4PI3qeKj4dBB8xSC4/oq0HhcnjKvEuON/zOPzpIPiwQXLhzRSCwoir4ZOY6hD36SD4uEHyelBcjq0xVZDYjkLtH+rTscSxY43RduOaqPqOESQXifoKI26JW2rO1DtGOqxIlJzqODM9LZ5ZcbVBYfK4GnrmuIMHxZ8KkstBcV1QGHE1HL03BMm7kILiqqAwU4Uq+/fw+F44QXIAMyAumARxwSSICyZBXDAJ4oJJEBdMgrhgku4nZ/Vn6XQkvwaC5Ed0ips8rcl+JZ3GzpdAkPyQS6YKxR1D3JMQJK9xgbi1ToJ0JO+FIHmd8+KuS3CSfHQkb4MguchpcXWRNDqSt0CQXOakuNo5Kh3J+yFIXuL8b0AUKxvoSH4dBMlLnBM3++bsh+hIfhaC5Mfw5AxMgrhgEsQFkyAumARxwSSICyZBXDAJ4oJJEBdMgriDUn9qplrB2BUOz7TSh1tJMiDeFX5jo8rTFQxGKiDgWrYKke8/yJnnPU9XMIxXAfEOdji3BTy8y4Pgu9NArZDy9e/b3wTE3qSiZh+0tPjYeduH8rg+uE+ay7tvWU50lFh98Pv3PTvV7dbxFhdpY6J0XeOH+rR444r7sWxXYhKLGx9xy0fTl7zzTKQxI62arsRHSzwtnlFx44l3PLZfzWuKMc/lkPkvk32wB4H9Q56uYBizAkIhbuGnoaL92k0xXn9S7RuRfrDrEpbiGYsKCCW7snPnt6Pmsn7vOzqfFvvNwbltLHwv5t5/n7yf9zdJK6EP5KQCAsAWiAsmQVwwCeKCSRAXTIK4YBLEBZP8DwoO7zmyNExtAAAAAElFTkSuQmCC)"
      ]
    },
    {
      "cell_type": "code",
      "metadata": {
        "id": "EoYRx_HWAY5_",
        "colab": {
          "base_uri": "https://localhost:8080/",
          "height": 269
        },
        "outputId": "e6f2d64b-166a-412d-bf27-5ab462518c3d"
      },
      "source": [
        "# Task 4: Type your code below to find and display min, max, mean, median and standard deviation of the numeric columns.\n",
        "# Hint 1: Use percentiles list [0.05, 0.1, 0.25, 0.5, 0.7, 0.9, 0.95] in <<2>> to get custom percentile columns\n",
        "# Hint 2: Replace <<1>> by appropriate function\n",
        "#############################################################\n",
        " \n",
        "data.describe(include='all').transpose()\n",
        "data.describe(percentiles=[.05, .1, .25, .5, .75, .9, .95]).transpose()\n",
        " \n",
        "#############################################################\n"
      ],
      "execution_count": 7,
      "outputs": [
        {
          "output_type": "execute_result",
          "data": {
            "text/plain": [
              "                                        count         mean          std  \\\n",
              "age                                   45210.0    40.947733    10.927918   \n",
              "average_yearly_balance                45211.0  1362.272058  3044.765829   \n",
              "last_contact_day                      45211.0    15.806419     8.322476   \n",
              "last_contact_duration                 45211.0   258.163080   257.527812   \n",
              "number_of_contacts                    45211.0     2.763841     3.098021   \n",
              "days_since_previous_campaign_contact  45211.0    40.197828   100.128746   \n",
              "previous_campaign_contacts            45211.0     0.580323     2.303441   \n",
              "\n",
              "                                         min     5%   10%    25%    50%  \\\n",
              "age                                     18.0   27.0  29.0   33.0   39.0   \n",
              "average_yearly_balance               -8019.0 -172.0   0.0   72.0  448.0   \n",
              "last_contact_day                         1.0    3.0   5.0    8.0   16.0   \n",
              "last_contact_duration                    0.0   35.0  58.0  103.0  180.0   \n",
              "number_of_contacts                       1.0    1.0   1.0    1.0    2.0   \n",
              "days_since_previous_campaign_contact    -1.0   -1.0  -1.0   -1.0   -1.0   \n",
              "previous_campaign_contacts               0.0    0.0   0.0    0.0    0.0   \n",
              "\n",
              "                                         75%     90%     95%       max  \n",
              "age                                     48.0    56.0    59.0     590.0  \n",
              "average_yearly_balance                1428.0  3574.0  5768.0  102127.0  \n",
              "last_contact_day                        21.0    28.0    29.0      31.0  \n",
              "last_contact_duration                  319.0   548.0   751.0    4918.0  \n",
              "number_of_contacts                       3.0     5.0     8.0      63.0  \n",
              "days_since_previous_campaign_contact    -1.0   185.0   317.0     871.0  \n",
              "previous_campaign_contacts               0.0     2.0     3.0     275.0  "
            ],
            "text/html": [
              "\n",
              "  <div id=\"df-ba88d5b0-b58c-4b51-9e49-0423b588d26f\">\n",
              "    <div class=\"colab-df-container\">\n",
              "      <div>\n",
              "<style scoped>\n",
              "    .dataframe tbody tr th:only-of-type {\n",
              "        vertical-align: middle;\n",
              "    }\n",
              "\n",
              "    .dataframe tbody tr th {\n",
              "        vertical-align: top;\n",
              "    }\n",
              "\n",
              "    .dataframe thead th {\n",
              "        text-align: right;\n",
              "    }\n",
              "</style>\n",
              "<table border=\"1\" class=\"dataframe\">\n",
              "  <thead>\n",
              "    <tr style=\"text-align: right;\">\n",
              "      <th></th>\n",
              "      <th>count</th>\n",
              "      <th>mean</th>\n",
              "      <th>std</th>\n",
              "      <th>min</th>\n",
              "      <th>5%</th>\n",
              "      <th>10%</th>\n",
              "      <th>25%</th>\n",
              "      <th>50%</th>\n",
              "      <th>75%</th>\n",
              "      <th>90%</th>\n",
              "      <th>95%</th>\n",
              "      <th>max</th>\n",
              "    </tr>\n",
              "  </thead>\n",
              "  <tbody>\n",
              "    <tr>\n",
              "      <th>age</th>\n",
              "      <td>45210.0</td>\n",
              "      <td>40.947733</td>\n",
              "      <td>10.927918</td>\n",
              "      <td>18.0</td>\n",
              "      <td>27.0</td>\n",
              "      <td>29.0</td>\n",
              "      <td>33.0</td>\n",
              "      <td>39.0</td>\n",
              "      <td>48.0</td>\n",
              "      <td>56.0</td>\n",
              "      <td>59.0</td>\n",
              "      <td>590.0</td>\n",
              "    </tr>\n",
              "    <tr>\n",
              "      <th>average_yearly_balance</th>\n",
              "      <td>45211.0</td>\n",
              "      <td>1362.272058</td>\n",
              "      <td>3044.765829</td>\n",
              "      <td>-8019.0</td>\n",
              "      <td>-172.0</td>\n",
              "      <td>0.0</td>\n",
              "      <td>72.0</td>\n",
              "      <td>448.0</td>\n",
              "      <td>1428.0</td>\n",
              "      <td>3574.0</td>\n",
              "      <td>5768.0</td>\n",
              "      <td>102127.0</td>\n",
              "    </tr>\n",
              "    <tr>\n",
              "      <th>last_contact_day</th>\n",
              "      <td>45211.0</td>\n",
              "      <td>15.806419</td>\n",
              "      <td>8.322476</td>\n",
              "      <td>1.0</td>\n",
              "      <td>3.0</td>\n",
              "      <td>5.0</td>\n",
              "      <td>8.0</td>\n",
              "      <td>16.0</td>\n",
              "      <td>21.0</td>\n",
              "      <td>28.0</td>\n",
              "      <td>29.0</td>\n",
              "      <td>31.0</td>\n",
              "    </tr>\n",
              "    <tr>\n",
              "      <th>last_contact_duration</th>\n",
              "      <td>45211.0</td>\n",
              "      <td>258.163080</td>\n",
              "      <td>257.527812</td>\n",
              "      <td>0.0</td>\n",
              "      <td>35.0</td>\n",
              "      <td>58.0</td>\n",
              "      <td>103.0</td>\n",
              "      <td>180.0</td>\n",
              "      <td>319.0</td>\n",
              "      <td>548.0</td>\n",
              "      <td>751.0</td>\n",
              "      <td>4918.0</td>\n",
              "    </tr>\n",
              "    <tr>\n",
              "      <th>number_of_contacts</th>\n",
              "      <td>45211.0</td>\n",
              "      <td>2.763841</td>\n",
              "      <td>3.098021</td>\n",
              "      <td>1.0</td>\n",
              "      <td>1.0</td>\n",
              "      <td>1.0</td>\n",
              "      <td>1.0</td>\n",
              "      <td>2.0</td>\n",
              "      <td>3.0</td>\n",
              "      <td>5.0</td>\n",
              "      <td>8.0</td>\n",
              "      <td>63.0</td>\n",
              "    </tr>\n",
              "    <tr>\n",
              "      <th>days_since_previous_campaign_contact</th>\n",
              "      <td>45211.0</td>\n",
              "      <td>40.197828</td>\n",
              "      <td>100.128746</td>\n",
              "      <td>-1.0</td>\n",
              "      <td>-1.0</td>\n",
              "      <td>-1.0</td>\n",
              "      <td>-1.0</td>\n",
              "      <td>-1.0</td>\n",
              "      <td>-1.0</td>\n",
              "      <td>185.0</td>\n",
              "      <td>317.0</td>\n",
              "      <td>871.0</td>\n",
              "    </tr>\n",
              "    <tr>\n",
              "      <th>previous_campaign_contacts</th>\n",
              "      <td>45211.0</td>\n",
              "      <td>0.580323</td>\n",
              "      <td>2.303441</td>\n",
              "      <td>0.0</td>\n",
              "      <td>0.0</td>\n",
              "      <td>0.0</td>\n",
              "      <td>0.0</td>\n",
              "      <td>0.0</td>\n",
              "      <td>0.0</td>\n",
              "      <td>2.0</td>\n",
              "      <td>3.0</td>\n",
              "      <td>275.0</td>\n",
              "    </tr>\n",
              "  </tbody>\n",
              "</table>\n",
              "</div>\n",
              "      <button class=\"colab-df-convert\" onclick=\"convertToInteractive('df-ba88d5b0-b58c-4b51-9e49-0423b588d26f')\"\n",
              "              title=\"Convert this dataframe to an interactive table.\"\n",
              "              style=\"display:none;\">\n",
              "        \n",
              "  <svg xmlns=\"http://www.w3.org/2000/svg\" height=\"24px\"viewBox=\"0 0 24 24\"\n",
              "       width=\"24px\">\n",
              "    <path d=\"M0 0h24v24H0V0z\" fill=\"none\"/>\n",
              "    <path d=\"M18.56 5.44l.94 2.06.94-2.06 2.06-.94-2.06-.94-.94-2.06-.94 2.06-2.06.94zm-11 1L8.5 8.5l.94-2.06 2.06-.94-2.06-.94L8.5 2.5l-.94 2.06-2.06.94zm10 10l.94 2.06.94-2.06 2.06-.94-2.06-.94-.94-2.06-.94 2.06-2.06.94z\"/><path d=\"M17.41 7.96l-1.37-1.37c-.4-.4-.92-.59-1.43-.59-.52 0-1.04.2-1.43.59L10.3 9.45l-7.72 7.72c-.78.78-.78 2.05 0 2.83L4 21.41c.39.39.9.59 1.41.59.51 0 1.02-.2 1.41-.59l7.78-7.78 2.81-2.81c.8-.78.8-2.07 0-2.86zM5.41 20L4 18.59l7.72-7.72 1.47 1.35L5.41 20z\"/>\n",
              "  </svg>\n",
              "      </button>\n",
              "      \n",
              "  <style>\n",
              "    .colab-df-container {\n",
              "      display:flex;\n",
              "      flex-wrap:wrap;\n",
              "      gap: 12px;\n",
              "    }\n",
              "\n",
              "    .colab-df-convert {\n",
              "      background-color: #E8F0FE;\n",
              "      border: none;\n",
              "      border-radius: 50%;\n",
              "      cursor: pointer;\n",
              "      display: none;\n",
              "      fill: #1967D2;\n",
              "      height: 32px;\n",
              "      padding: 0 0 0 0;\n",
              "      width: 32px;\n",
              "    }\n",
              "\n",
              "    .colab-df-convert:hover {\n",
              "      background-color: #E2EBFA;\n",
              "      box-shadow: 0px 1px 2px rgba(60, 64, 67, 0.3), 0px 1px 3px 1px rgba(60, 64, 67, 0.15);\n",
              "      fill: #174EA6;\n",
              "    }\n",
              "\n",
              "    [theme=dark] .colab-df-convert {\n",
              "      background-color: #3B4455;\n",
              "      fill: #D2E3FC;\n",
              "    }\n",
              "\n",
              "    [theme=dark] .colab-df-convert:hover {\n",
              "      background-color: #434B5C;\n",
              "      box-shadow: 0px 1px 3px 1px rgba(0, 0, 0, 0.15);\n",
              "      filter: drop-shadow(0px 1px 2px rgba(0, 0, 0, 0.3));\n",
              "      fill: #FFFFFF;\n",
              "    }\n",
              "  </style>\n",
              "\n",
              "      <script>\n",
              "        const buttonEl =\n",
              "          document.querySelector('#df-ba88d5b0-b58c-4b51-9e49-0423b588d26f button.colab-df-convert');\n",
              "        buttonEl.style.display =\n",
              "          google.colab.kernel.accessAllowed ? 'block' : 'none';\n",
              "\n",
              "        async function convertToInteractive(key) {\n",
              "          const element = document.querySelector('#df-ba88d5b0-b58c-4b51-9e49-0423b588d26f');\n",
              "          const dataTable =\n",
              "            await google.colab.kernel.invokeFunction('convertToInteractive',\n",
              "                                                     [key], {});\n",
              "          if (!dataTable) return;\n",
              "\n",
              "          const docLinkHtml = 'Like what you see? Visit the ' +\n",
              "            '<a target=\"_blank\" href=https://colab.research.google.com/notebooks/data_table.ipynb>data table notebook</a>'\n",
              "            + ' to learn more about interactive tables.';\n",
              "          element.innerHTML = '';\n",
              "          dataTable['output_type'] = 'display_data';\n",
              "          await google.colab.output.renderOutput(dataTable, element);\n",
              "          const docLink = document.createElement('div');\n",
              "          docLink.innerHTML = docLinkHtml;\n",
              "          element.appendChild(docLink);\n",
              "        }\n",
              "      </script>\n",
              "    </div>\n",
              "  </div>\n",
              "  "
            ]
          },
          "metadata": {},
          "execution_count": 7
        }
      ]
    },
    {
      "cell_type": "code",
      "source": [
        ""
      ],
      "metadata": {
        "id": "t-6hyQQ_peVk"
      },
      "execution_count": 7,
      "outputs": []
    },
    {
      "cell_type": "markdown",
      "metadata": {
        "id": "N383f5PlHtHm"
      },
      "source": [
        "* Task 5 : Create a boxplot to visualize the deatils you found in Task 3.\n",
        "\n",
        "\n"
      ]
    },
    {
      "cell_type": "code",
      "metadata": {
        "id": "BuFthEWvGfoQ",
        "colab": {
          "base_uri": "https://localhost:8080/",
          "height": 282
        },
        "outputId": "1f8fce91-8827-4ab7-8fd0-3784d3207c0f"
      },
      "source": [
        "# Task 5.1: Type your code to create a box plot using the columns 'age'\n",
        "#############################################################\n",
        "data['age'].plot(kind='box')\n",
        "#############################################################"
      ],
      "execution_count": 8,
      "outputs": [
        {
          "output_type": "execute_result",
          "data": {
            "text/plain": [
              "<matplotlib.axes._subplots.AxesSubplot at 0x7f501546c4d0>"
            ]
          },
          "metadata": {},
          "execution_count": 8
        },
        {
          "output_type": "display_data",
          "data": {
            "text/plain": [
              "<Figure size 432x288 with 1 Axes>"
            ],
            "image/png": "[encoded data removed]"
          },
          "metadata": {
            "needs_background": "light"
          }
        }
      ]
    },
    {
      "cell_type": "code",
      "source": [
        "# Task 5.2: Remove outlier records based on the 'age' column\n",
        "# Hint: Drop entire row containing outlier value for 'age'\n",
        "#############################################################\n",
        " data.drop\n",
        "#############################################################"
      ],
      "metadata": {
        "id": "0__9kiOCduq5",
        "colab": {
          "base_uri": "https://localhost:8080/",
          "height": 130
        },
        "outputId": "8ebe041b-ddeb-40c1-dca9-8967174f4555"
      },
      "execution_count": 9,
      "outputs": [
        {
          "output_type": "error",
          "ename": "IndentationError",
          "evalue": "ignored",
          "traceback": [
            "\u001b[0;36m  File \u001b[0;32m\"<ipython-input-9-ca154580ed49>\"\u001b[0;36m, line \u001b[0;32m4\u001b[0m\n\u001b[0;31m    data.drop\u001b[0m\n\u001b[0m    ^\u001b[0m\n\u001b[0;31mIndentationError\u001b[0m\u001b[0;31m:\u001b[0m unexpected indent\n"
          ]
        }
      ]
    },
    {
      "cell_type": "markdown",
      "source": [
        "data.drop(labels='age', axis=1, inplace = True)"
      ],
      "metadata": {
        "id": "9rhu6VjMy0eL"
      }
    },
    {
      "cell_type": "code",
      "source": [
        "data.describe(include='all').transpose()"
      ],
      "metadata": {
        "colab": {
          "base_uri": "https://localhost:8080/",
          "height": 582
        },
        "id": "J9h-fRItzvyh",
        "outputId": "855a5c19-e529-4bba-a61d-9e5cde8eaddf"
      },
      "execution_count": 10,
      "outputs": [
        {
          "output_type": "execute_result",
          "data": {
            "text/plain": [
              "                                        count unique          top   freq  \\\n",
              "age                                   45210.0    NaN          NaN    NaN   \n",
              "job_type                                45211     12  blue-collar   9732   \n",
              "marital_status                          45211      3      married  27214   \n",
              "education                               45211      6    secondary  23201   \n",
              "has_credit_in_default                   45211      2           no  44396   \n",
              "average_yearly_balance                45211.0    NaN          NaN    NaN   \n",
              "has_housing_loan                        45211      2          yes  25130   \n",
              "has_personal_loan                       45211      2           no  37967   \n",
              "contact_type                            45211      3     cellular  29285   \n",
              "last_contact_day                      45211.0    NaN          NaN    NaN   \n",
              "last_contact_month                      45211     12          may  13766   \n",
              "last_contact_duration                 45211.0    NaN          NaN    NaN   \n",
              "number_of_contacts                    45211.0    NaN          NaN    NaN   \n",
              "days_since_previous_campaign_contact  45211.0    NaN          NaN    NaN   \n",
              "previous_campaign_contacts            45211.0    NaN          NaN    NaN   \n",
              "previous_campaign_outcome               45211      4      unknown  36959   \n",
              "is_subscribed                           45211      5           no  39918   \n",
              "\n",
              "                                             mean          std     min    25%  \\\n",
              "age                                     40.947733    10.927918    18.0   33.0   \n",
              "job_type                                      NaN          NaN     NaN    NaN   \n",
              "marital_status                                NaN          NaN     NaN    NaN   \n",
              "education                                     NaN          NaN     NaN    NaN   \n",
              "has_credit_in_default                         NaN          NaN     NaN    NaN   \n",
              "average_yearly_balance                1362.272058  3044.765829 -8019.0   72.0   \n",
              "has_housing_loan                              NaN          NaN     NaN    NaN   \n",
              "has_personal_loan                             NaN          NaN     NaN    NaN   \n",
              "contact_type                                  NaN          NaN     NaN    NaN   \n",
              "last_contact_day                        15.806419     8.322476     1.0    8.0   \n",
              "last_contact_month                            NaN          NaN     NaN    NaN   \n",
              "last_contact_duration                   258.16308   257.527812     0.0  103.0   \n",
              "number_of_contacts                       2.763841     3.098021     1.0    1.0   \n",
              "days_since_previous_campaign_contact    40.197828   100.128746    -1.0   -1.0   \n",
              "previous_campaign_contacts               0.580323     2.303441     0.0    0.0   \n",
              "previous_campaign_outcome                     NaN          NaN     NaN    NaN   \n",
              "is_subscribed                                 NaN          NaN     NaN    NaN   \n",
              "\n",
              "                                        50%     75%       max  \n",
              "age                                    39.0    48.0     590.0  \n",
              "job_type                                NaN     NaN       NaN  \n",
              "marital_status                          NaN     NaN       NaN  \n",
              "education                               NaN     NaN       NaN  \n",
              "has_credit_in_default                   NaN     NaN       NaN  \n",
              "average_yearly_balance                448.0  1428.0  102127.0  \n",
              "has_housing_loan                        NaN     NaN       NaN  \n",
              "has_personal_loan                       NaN     NaN       NaN  \n",
              "contact_type                            NaN     NaN       NaN  \n",
              "last_contact_day                       16.0    21.0      31.0  \n",
              "last_contact_month                      NaN     NaN       NaN  \n",
              "last_contact_duration                 180.0   319.0    4918.0  \n",
              "number_of_contacts                      2.0     3.0      63.0  \n",
              "days_since_previous_campaign_contact   -1.0    -1.0     871.0  \n",
              "previous_campaign_contacts              0.0     0.0     275.0  \n",
              "previous_campaign_outcome               NaN     NaN       NaN  \n",
              "is_subscribed                           NaN     NaN       NaN  "
            ],
            "text/html": [
              "\n",
              "  <div id=\"df-5fbc4b6c-370a-4b42-814f-d85d8b3f71be\">\n",
              "    <div class=\"colab-df-container\">\n",
              "      <div>\n",
              "<style scoped>\n",
              "    .dataframe tbody tr th:only-of-type {\n",
              "        vertical-align: middle;\n",
              "    }\n",
              "\n",
              "    .dataframe tbody tr th {\n",
              "        vertical-align: top;\n",
              "    }\n",
              "\n",
              "    .dataframe thead th {\n",
              "        text-align: right;\n",
              "    }\n",
              "</style>\n",
              "<table border=\"1\" class=\"dataframe\">\n",
              "  <thead>\n",
              "    <tr style=\"text-align: right;\">\n",
              "      <th></th>\n",
              "      <th>count</th>\n",
              "      <th>unique</th>\n",
              "      <th>top</th>\n",
              "      <th>freq</th>\n",
              "      <th>mean</th>\n",
              "      <th>std</th>\n",
              "      <th>min</th>\n",
              "      <th>25%</th>\n",
              "      <th>50%</th>\n",
              "      <th>75%</th>\n",
              "      <th>max</th>\n",
              "    </tr>\n",
              "  </thead>\n",
              "  <tbody>\n",
              "    <tr>\n",
              "      <th>age</th>\n",
              "      <td>45210.0</td>\n",
              "      <td>NaN</td>\n",
              "      <td>NaN</td>\n",
              "      <td>NaN</td>\n",
              "      <td>40.947733</td>\n",
              "      <td>10.927918</td>\n",
              "      <td>18.0</td>\n",
              "      <td>33.0</td>\n",
              "      <td>39.0</td>\n",
              "      <td>48.0</td>\n",
              "      <td>590.0</td>\n",
              "    </tr>\n",
              "    <tr>\n",
              "      <th>job_type</th>\n",
              "      <td>45211</td>\n",
              "      <td>12</td>\n",
              "      <td>blue-collar</td>\n",
              "      <td>9732</td>\n",
              "      <td>NaN</td>\n",
              "      <td>NaN</td>\n",
              "      <td>NaN</td>\n",
              "      <td>NaN</td>\n",
              "      <td>NaN</td>\n",
              "      <td>NaN</td>\n",
              "      <td>NaN</td>\n",
              "    </tr>\n",
              "    <tr>\n",
              "      <th>marital_status</th>\n",
              "      <td>45211</td>\n",
              "      <td>3</td>\n",
              "      <td>married</td>\n",
              "      <td>27214</td>\n",
              "      <td>NaN</td>\n",
              "      <td>NaN</td>\n",
              "      <td>NaN</td>\n",
              "      <td>NaN</td>\n",
              "      <td>NaN</td>\n",
              "      <td>NaN</td>\n",
              "      <td>NaN</td>\n",
              "    </tr>\n",
              "    <tr>\n",
              "      <th>education</th>\n",
              "      <td>45211</td>\n",
              "      <td>6</td>\n",
              "      <td>secondary</td>\n",
              "      <td>23201</td>\n",
              "      <td>NaN</td>\n",
              "      <td>NaN</td>\n",
              "      <td>NaN</td>\n",
              "      <td>NaN</td>\n",
              "      <td>NaN</td>\n",
              "      <td>NaN</td>\n",
              "      <td>NaN</td>\n",
              "    </tr>\n",
              "    <tr>\n",
              "      <th>has_credit_in_default</th>\n",
              "      <td>45211</td>\n",
              "      <td>2</td>\n",
              "      <td>no</td>\n",
              "      <td>44396</td>\n",
              "      <td>NaN</td>\n",
              "      <td>NaN</td>\n",
              "      <td>NaN</td>\n",
              "      <td>NaN</td>\n",
              "      <td>NaN</td>\n",
              "      <td>NaN</td>\n",
              "      <td>NaN</td>\n",
              "    </tr>\n",
              "    <tr>\n",
              "      <th>average_yearly_balance</th>\n",
              "      <td>45211.0</td>\n",
              "      <td>NaN</td>\n",
              "      <td>NaN</td>\n",
              "      <td>NaN</td>\n",
              "      <td>1362.272058</td>\n",
              "      <td>3044.765829</td>\n",
              "      <td>-8019.0</td>\n",
              "      <td>72.0</td>\n",
              "      <td>448.0</td>\n",
              "      <td>1428.0</td>\n",
              "      <td>102127.0</td>\n",
              "    </tr>\n",
              "    <tr>\n",
              "      <th>has_housing_loan</th>\n",
              "      <td>45211</td>\n",
              "      <td>2</td>\n",
              "      <td>yes</td>\n",
              "      <td>25130</td>\n",
              "      <td>NaN</td>\n",
              "      <td>NaN</td>\n",
              "      <td>NaN</td>\n",
              "      <td>NaN</td>\n",
              "      <td>NaN</td>\n",
              "      <td>NaN</td>\n",
              "      <td>NaN</td>\n",
              "    </tr>\n",
              "    <tr>\n",
              "      <th>has_personal_loan</th>\n",
              "      <td>45211</td>\n",
              "      <td>2</td>\n",
              "      <td>no</td>\n",
              "      <td>37967</td>\n",
              "      <td>NaN</td>\n",
              "      <td>NaN</td>\n",
              "      <td>NaN</td>\n",
              "      <td>NaN</td>\n",
              "      <td>NaN</td>\n",
              "      <td>NaN</td>\n",
              "      <td>NaN</td>\n",
              "    </tr>\n",
              "    <tr>\n",
              "      <th>contact_type</th>\n",
              "      <td>45211</td>\n",
              "      <td>3</td>\n",
              "      <td>cellular</td>\n",
              "      <td>29285</td>\n",
              "      <td>NaN</td>\n",
              "      <td>NaN</td>\n",
              "      <td>NaN</td>\n",
              "      <td>NaN</td>\n",
              "      <td>NaN</td>\n",
              "      <td>NaN</td>\n",
              "      <td>NaN</td>\n",
              "    </tr>\n",
              "    <tr>\n",
              "      <th>last_contact_day</th>\n",
              "      <td>45211.0</td>\n",
              "      <td>NaN</td>\n",
              "      <td>NaN</td>\n",
              "      <td>NaN</td>\n",
              "      <td>15.806419</td>\n",
              "      <td>8.322476</td>\n",
              "      <td>1.0</td>\n",
              "      <td>8.0</td>\n",
              "      <td>16.0</td>\n",
              "      <td>21.0</td>\n",
              "      <td>31.0</td>\n",
              "    </tr>\n",
              "    <tr>\n",
              "      <th>last_contact_month</th>\n",
              "      <td>45211</td>\n",
              "      <td>12</td>\n",
              "      <td>may</td>\n",
              "      <td>13766</td>\n",
              "      <td>NaN</td>\n",
              "      <td>NaN</td>\n",
              "      <td>NaN</td>\n",
              "      <td>NaN</td>\n",
              "      <td>NaN</td>\n",
              "      <td>NaN</td>\n",
              "      <td>NaN</td>\n",
              "    </tr>\n",
              "    <tr>\n",
              "      <th>last_contact_duration</th>\n",
              "      <td>45211.0</td>\n",
              "      <td>NaN</td>\n",
              "      <td>NaN</td>\n",
              "      <td>NaN</td>\n",
              "      <td>258.16308</td>\n",
              "      <td>257.527812</td>\n",
              "      <td>0.0</td>\n",
              "      <td>103.0</td>\n",
              "      <td>180.0</td>\n",
              "      <td>319.0</td>\n",
              "      <td>4918.0</td>\n",
              "    </tr>\n",
              "    <tr>\n",
              "      <th>number_of_contacts</th>\n",
              "      <td>45211.0</td>\n",
              "      <td>NaN</td>\n",
              "      <td>NaN</td>\n",
              "      <td>NaN</td>\n",
              "      <td>2.763841</td>\n",
              "      <td>3.098021</td>\n",
              "      <td>1.0</td>\n",
              "      <td>1.0</td>\n",
              "      <td>2.0</td>\n",
              "      <td>3.0</td>\n",
              "      <td>63.0</td>\n",
              "    </tr>\n",
              "    <tr>\n",
              "      <th>days_since_previous_campaign_contact</th>\n",
              "      <td>45211.0</td>\n",
              "      <td>NaN</td>\n",
              "      <td>NaN</td>\n",
              "      <td>NaN</td>\n",
              "      <td>40.197828</td>\n",
              "      <td>100.128746</td>\n",
              "      <td>-1.0</td>\n",
              "      <td>-1.0</td>\n",
              "      <td>-1.0</td>\n",
              "      <td>-1.0</td>\n",
              "      <td>871.0</td>\n",
              "    </tr>\n",
              "    <tr>\n",
              "      <th>previous_campaign_contacts</th>\n",
              "      <td>45211.0</td>\n",
              "      <td>NaN</td>\n",
              "      <td>NaN</td>\n",
              "      <td>NaN</td>\n",
              "      <td>0.580323</td>\n",
              "      <td>2.303441</td>\n",
              "      <td>0.0</td>\n",
              "      <td>0.0</td>\n",
              "      <td>0.0</td>\n",
              "      <td>0.0</td>\n",
              "      <td>275.0</td>\n",
              "    </tr>\n",
              "    <tr>\n",
              "      <th>previous_campaign_outcome</th>\n",
              "      <td>45211</td>\n",
              "      <td>4</td>\n",
              "      <td>unknown</td>\n",
              "      <td>36959</td>\n",
              "      <td>NaN</td>\n",
              "      <td>NaN</td>\n",
              "      <td>NaN</td>\n",
              "      <td>NaN</td>\n",
              "      <td>NaN</td>\n",
              "      <td>NaN</td>\n",
              "      <td>NaN</td>\n",
              "    </tr>\n",
              "    <tr>\n",
              "      <th>is_subscribed</th>\n",
              "      <td>45211</td>\n",
              "      <td>5</td>\n",
              "      <td>no</td>\n",
              "      <td>39918</td>\n",
              "      <td>NaN</td>\n",
              "      <td>NaN</td>\n",
              "      <td>NaN</td>\n",
              "      <td>NaN</td>\n",
              "      <td>NaN</td>\n",
              "      <td>NaN</td>\n",
              "      <td>NaN</td>\n",
              "    </tr>\n",
              "  </tbody>\n",
              "</table>\n",
              "</div>\n",
              "      <button class=\"colab-df-convert\" onclick=\"convertToInteractive('df-5fbc4b6c-370a-4b42-814f-d85d8b3f71be')\"\n",
              "              title=\"Convert this dataframe to an interactive table.\"\n",
              "              style=\"display:none;\">\n",
              "        \n",
              "  <svg xmlns=\"http://www.w3.org/2000/svg\" height=\"24px\"viewBox=\"0 0 24 24\"\n",
              "       width=\"24px\">\n",
              "    <path d=\"M0 0h24v24H0V0z\" fill=\"none\"/>\n",
              "    <path d=\"M18.56 5.44l.94 2.06.94-2.06 2.06-.94-2.06-.94-.94-2.06-.94 2.06-2.06.94zm-11 1L8.5 8.5l.94-2.06 2.06-.94-2.06-.94L8.5 2.5l-.94 2.06-2.06.94zm10 10l.94 2.06.94-2.06 2.06-.94-2.06-.94-.94-2.06-.94 2.06-2.06.94z\"/><path d=\"M17.41 7.96l-1.37-1.37c-.4-.4-.92-.59-1.43-.59-.52 0-1.04.2-1.43.59L10.3 9.45l-7.72 7.72c-.78.78-.78 2.05 0 2.83L4 21.41c.39.39.9.59 1.41.59.51 0 1.02-.2 1.41-.59l7.78-7.78 2.81-2.81c.8-.78.8-2.07 0-2.86zM5.41 20L4 18.59l7.72-7.72 1.47 1.35L5.41 20z\"/>\n",
              "  </svg>\n",
              "      </button>\n",
              "      \n",
              "  <style>\n",
              "    .colab-df-container {\n",
              "      display:flex;\n",
              "      flex-wrap:wrap;\n",
              "      gap: 12px;\n",
              "    }\n",
              "\n",
              "    .colab-df-convert {\n",
              "      background-color: #E8F0FE;\n",
              "      border: none;\n",
              "      border-radius: 50%;\n",
              "      cursor: pointer;\n",
              "      display: none;\n",
              "      fill: #1967D2;\n",
              "      height: 32px;\n",
              "      padding: 0 0 0 0;\n",
              "      width: 32px;\n",
              "    }\n",
              "\n",
              "    .colab-df-convert:hover {\n",
              "      background-color: #E2EBFA;\n",
              "      box-shadow: 0px 1px 2px rgba(60, 64, 67, 0.3), 0px 1px 3px 1px rgba(60, 64, 67, 0.15);\n",
              "      fill: #174EA6;\n",
              "    }\n",
              "\n",
              "    [theme=dark] .colab-df-convert {\n",
              "      background-color: #3B4455;\n",
              "      fill: #D2E3FC;\n",
              "    }\n",
              "\n",
              "    [theme=dark] .colab-df-convert:hover {\n",
              "      background-color: #434B5C;\n",
              "      box-shadow: 0px 1px 3px 1px rgba(0, 0, 0, 0.15);\n",
              "      filter: drop-shadow(0px 1px 2px rgba(0, 0, 0, 0.3));\n",
              "      fill: #FFFFFF;\n",
              "    }\n",
              "  </style>\n",
              "\n",
              "      <script>\n",
              "        const buttonEl =\n",
              "          document.querySelector('#df-5fbc4b6c-370a-4b42-814f-d85d8b3f71be button.colab-df-convert');\n",
              "        buttonEl.style.display =\n",
              "          google.colab.kernel.accessAllowed ? 'block' : 'none';\n",
              "\n",
              "        async function convertToInteractive(key) {\n",
              "          const element = document.querySelector('#df-5fbc4b6c-370a-4b42-814f-d85d8b3f71be');\n",
              "          const dataTable =\n",
              "            await google.colab.kernel.invokeFunction('convertToInteractive',\n",
              "                                                     [key], {});\n",
              "          if (!dataTable) return;\n",
              "\n",
              "          const docLinkHtml = 'Like what you see? Visit the ' +\n",
              "            '<a target=\"_blank\" href=https://colab.research.google.com/notebooks/data_table.ipynb>data table notebook</a>'\n",
              "            + ' to learn more about interactive tables.';\n",
              "          element.innerHTML = '';\n",
              "          dataTable['output_type'] = 'display_data';\n",
              "          await google.colab.output.renderOutput(dataTable, element);\n",
              "          const docLink = document.createElement('div');\n",
              "          docLink.innerHTML = docLinkHtml;\n",
              "          element.appendChild(docLink);\n",
              "        }\n",
              "      </script>\n",
              "    </div>\n",
              "  </div>\n",
              "  "
            ]
          },
          "metadata": {},
          "execution_count": 10
        }
      ]
    },
    {
      "cell_type": "code",
      "source": [
        "# Task 5.3: Produce Box Plot after removing outliers\n",
        "#############################################################\n",
        "data['age'].plot(kind='box')\n",
        "#############################################################"
      ],
      "metadata": {
        "id": "IqvAyGIenNO-",
        "colab": {
          "base_uri": "https://localhost:8080/",
          "height": 282
        },
        "outputId": "d705143a-e430-4fd1-acc8-660df375cfef"
      },
      "execution_count": 11,
      "outputs": [
        {
          "output_type": "execute_result",
          "data": {
            "text/plain": [
              "<matplotlib.axes._subplots.AxesSubplot at 0x7f5014f0ec10>"
            ]
          },
          "metadata": {},
          "execution_count": 11
        },
        {
          "output_type": "display_data",
          "data": {
            "text/plain": [
              "<Figure size 432x288 with 1 Axes>"
            ],
            "image/png": "[encoded data removed]"
          },
          "metadata": {
            "needs_background": "light"
          }
        }
      ]
    },
    {
      "cell_type": "code",
      "metadata": {
        "id": "-8tS4ZLEJt9O",
        "colab": {
          "base_uri": "https://localhost:8080/"
        },
        "outputId": "148da48e-9ca7-4032-b0f4-d0edf57637e0"
      },
      "source": [
        "# Task 5.4: Get Descriptive Statistics for 'age' column only\n",
        "#############################################################\n",
        "data['age'].describe()\n",
        "#############################################################"
      ],
      "execution_count": 12,
      "outputs": [
        {
          "output_type": "execute_result",
          "data": {
            "text/plain": [
              "count    45210.000000\n",
              "mean        40.947733\n",
              "std         10.927918\n",
              "min         18.000000\n",
              "25%         33.000000\n",
              "50%         39.000000\n",
              "75%         48.000000\n",
              "max        590.000000\n",
              "Name: age, dtype: float64"
            ]
          },
          "metadata": {},
          "execution_count": 12
        }
      ]
    },
    {
      "cell_type": "markdown",
      "source": [
        "Task 6: Get Age distribution by 'job_type'\n",
        "\n"
      ],
      "metadata": {
        "id": "03x5m9IKzc5q"
      }
    },
    {
      "cell_type": "markdown",
      "source": [
        "data.groupby(by='job_type').agg({'age':'median'})"
      ],
      "metadata": {
        "id": "v24mKQtI4Yr_"
      }
    },
    {
      "cell_type": "markdown",
      "source": [
        ""
      ],
      "metadata": {
        "id": "26gd9I9p4V4_"
      }
    },
    {
      "cell_type": "code",
      "source": [
        "# Task 6.1: Find the median age by the the column 'job_type'\n",
        "# Hint: Use group by\n",
        "#############################################################\n",
        "data.groupby(by='job_type').agg({'age':'median'})\n",
        " \n",
        "#############################################################"
      ],
      "metadata": {
        "id": "vCLjLiG_z1su",
        "colab": {
          "base_uri": "https://localhost:8080/",
          "height": 457
        },
        "outputId": "ddc94f6f-1488-457a-b3e1-e3b1d7eb4d7f"
      },
      "execution_count": 13,
      "outputs": [
        {
          "output_type": "execute_result",
          "data": {
            "text/plain": [
              "                age\n",
              "job_type           \n",
              "admin.         38.0\n",
              "blue-collar    39.0\n",
              "entrepreneur   41.0\n",
              "housemaid      47.0\n",
              "management     38.0\n",
              "retired        59.0\n",
              "self-employed  39.0\n",
              "services       37.0\n",
              "student        26.0\n",
              "technician     37.0\n",
              "unemployed     40.0\n",
              "unknown        47.0"
            ],
            "text/html": [
              "\n",
              "  <div id=\"df-73644f9b-1b1c-45e5-916c-91c05ad3474a\">\n",
              "    <div class=\"colab-df-container\">\n",
              "      <div>\n",
              "<style scoped>\n",
              "    .dataframe tbody tr th:only-of-type {\n",
              "        vertical-align: middle;\n",
              "    }\n",
              "\n",
              "    .dataframe tbody tr th {\n",
              "        vertical-align: top;\n",
              "    }\n",
              "\n",
              "    .dataframe thead th {\n",
              "        text-align: right;\n",
              "    }\n",
              "</style>\n",
              "<table border=\"1\" class=\"dataframe\">\n",
              "  <thead>\n",
              "    <tr style=\"text-align: right;\">\n",
              "      <th></th>\n",
              "      <th>age</th>\n",
              "    </tr>\n",
              "    <tr>\n",
              "      <th>job_type</th>\n",
              "      <th></th>\n",
              "    </tr>\n",
              "  </thead>\n",
              "  <tbody>\n",
              "    <tr>\n",
              "      <th>admin.</th>\n",
              "      <td>38.0</td>\n",
              "    </tr>\n",
              "    <tr>\n",
              "      <th>blue-collar</th>\n",
              "      <td>39.0</td>\n",
              "    </tr>\n",
              "    <tr>\n",
              "      <th>entrepreneur</th>\n",
              "      <td>41.0</td>\n",
              "    </tr>\n",
              "    <tr>\n",
              "      <th>housemaid</th>\n",
              "      <td>47.0</td>\n",
              "    </tr>\n",
              "    <tr>\n",
              "      <th>management</th>\n",
              "      <td>38.0</td>\n",
              "    </tr>\n",
              "    <tr>\n",
              "      <th>retired</th>\n",
              "      <td>59.0</td>\n",
              "    </tr>\n",
              "    <tr>\n",
              "      <th>self-employed</th>\n",
              "      <td>39.0</td>\n",
              "    </tr>\n",
              "    <tr>\n",
              "      <th>services</th>\n",
              "      <td>37.0</td>\n",
              "    </tr>\n",
              "    <tr>\n",
              "      <th>student</th>\n",
              "      <td>26.0</td>\n",
              "    </tr>\n",
              "    <tr>\n",
              "      <th>technician</th>\n",
              "      <td>37.0</td>\n",
              "    </tr>\n",
              "    <tr>\n",
              "      <th>unemployed</th>\n",
              "      <td>40.0</td>\n",
              "    </tr>\n",
              "    <tr>\n",
              "      <th>unknown</th>\n",
              "      <td>47.0</td>\n",
              "    </tr>\n",
              "  </tbody>\n",
              "</table>\n",
              "</div>\n",
              "      <button class=\"colab-df-convert\" onclick=\"convertToInteractive('df-73644f9b-1b1c-45e5-916c-91c05ad3474a')\"\n",
              "              title=\"Convert this dataframe to an interactive table.\"\n",
              "              style=\"display:none;\">\n",
              "        \n",
              "  <svg xmlns=\"http://www.w3.org/2000/svg\" height=\"24px\"viewBox=\"0 0 24 24\"\n",
              "       width=\"24px\">\n",
              "    <path d=\"M0 0h24v24H0V0z\" fill=\"none\"/>\n",
              "    <path d=\"M18.56 5.44l.94 2.06.94-2.06 2.06-.94-2.06-.94-.94-2.06-.94 2.06-2.06.94zm-11 1L8.5 8.5l.94-2.06 2.06-.94-2.06-.94L8.5 2.5l-.94 2.06-2.06.94zm10 10l.94 2.06.94-2.06 2.06-.94-2.06-.94-.94-2.06-.94 2.06-2.06.94z\"/><path d=\"M17.41 7.96l-1.37-1.37c-.4-.4-.92-.59-1.43-.59-.52 0-1.04.2-1.43.59L10.3 9.45l-7.72 7.72c-.78.78-.78 2.05 0 2.83L4 21.41c.39.39.9.59 1.41.59.51 0 1.02-.2 1.41-.59l7.78-7.78 2.81-2.81c.8-.78.8-2.07 0-2.86zM5.41 20L4 18.59l7.72-7.72 1.47 1.35L5.41 20z\"/>\n",
              "  </svg>\n",
              "      </button>\n",
              "      \n",
              "  <style>\n",
              "    .colab-df-container {\n",
              "      display:flex;\n",
              "      flex-wrap:wrap;\n",
              "      gap: 12px;\n",
              "    }\n",
              "\n",
              "    .colab-df-convert {\n",
              "      background-color: #E8F0FE;\n",
              "      border: none;\n",
              "      border-radius: 50%;\n",
              "      cursor: pointer;\n",
              "      display: none;\n",
              "      fill: #1967D2;\n",
              "      height: 32px;\n",
              "      padding: 0 0 0 0;\n",
              "      width: 32px;\n",
              "    }\n",
              "\n",
              "    .colab-df-convert:hover {\n",
              "      background-color: #E2EBFA;\n",
              "      box-shadow: 0px 1px 2px rgba(60, 64, 67, 0.3), 0px 1px 3px 1px rgba(60, 64, 67, 0.15);\n",
              "      fill: #174EA6;\n",
              "    }\n",
              "\n",
              "    [theme=dark] .colab-df-convert {\n",
              "      background-color: #3B4455;\n",
              "      fill: #D2E3FC;\n",
              "    }\n",
              "\n",
              "    [theme=dark] .colab-df-convert:hover {\n",
              "      background-color: #434B5C;\n",
              "      box-shadow: 0px 1px 3px 1px rgba(0, 0, 0, 0.15);\n",
              "      filter: drop-shadow(0px 1px 2px rgba(0, 0, 0, 0.3));\n",
              "      fill: #FFFFFF;\n",
              "    }\n",
              "  </style>\n",
              "\n",
              "      <script>\n",
              "        const buttonEl =\n",
              "          document.querySelector('#df-73644f9b-1b1c-45e5-916c-91c05ad3474a button.colab-df-convert');\n",
              "        buttonEl.style.display =\n",
              "          google.colab.kernel.accessAllowed ? 'block' : 'none';\n",
              "\n",
              "        async function convertToInteractive(key) {\n",
              "          const element = document.querySelector('#df-73644f9b-1b1c-45e5-916c-91c05ad3474a');\n",
              "          const dataTable =\n",
              "            await google.colab.kernel.invokeFunction('convertToInteractive',\n",
              "                                                     [key], {});\n",
              "          if (!dataTable) return;\n",
              "\n",
              "          const docLinkHtml = 'Like what you see? Visit the ' +\n",
              "            '<a target=\"_blank\" href=https://colab.research.google.com/notebooks/data_table.ipynb>data table notebook</a>'\n",
              "            + ' to learn more about interactive tables.';\n",
              "          element.innerHTML = '';\n",
              "          dataTable['output_type'] = 'display_data';\n",
              "          await google.colab.output.renderOutput(dataTable, element);\n",
              "          const docLink = document.createElement('div');\n",
              "          docLink.innerHTML = docLinkHtml;\n",
              "          element.appendChild(docLink);\n",
              "        }\n",
              "      </script>\n",
              "    </div>\n",
              "  </div>\n",
              "  "
            ]
          },
          "metadata": {},
          "execution_count": 13
        }
      ]
    },
    {
      "cell_type": "code",
      "source": [
        "# Task 6.2: Replace any missing value of the 'age' column by the median age for the 'job_type'\n",
        "# Hint: Use loc to isolate 'age' cells and isna() function to locate rows with missing values\n",
        "#############################################################\n",
        "data.loc[<<?>>, 'age']=<<?>>\n",
        " \n",
        "#############################################################"
      ],
      "metadata": {
        "id": "gDKRYcvU0Sea",
        "colab": {
          "base_uri": "https://localhost:8080/",
          "height": 130
        },
        "outputId": "f1da1708-e260-462d-9652-4f5bb129bdef"
      },
      "execution_count": 14,
      "outputs": [
        {
          "output_type": "error",
          "ename": "SyntaxError",
          "evalue": "ignored",
          "traceback": [
            "\u001b[0;36m  File \u001b[0;32m\"<ipython-input-14-231fb8e26db6>\"\u001b[0;36m, line \u001b[0;32m4\u001b[0m\n\u001b[0;31m    data.loc[<<?>>, 'age']=<<?>>\u001b[0m\n\u001b[0m              ^\u001b[0m\n\u001b[0;31mSyntaxError\u001b[0m\u001b[0;31m:\u001b[0m invalid syntax\n"
          ]
        }
      ]
    },
    {
      "cell_type": "markdown",
      "metadata": {
        "id": "TkBeZfMEKG1C"
      },
      "source": [
        "* Task 6: Understanding Categorical Columns"
      ]
    },
    {
      "cell_type": "code",
      "metadata": {
        "id": "rLRyQ-D-KXFP",
        "colab": {
          "base_uri": "https://localhost:8080/"
        },
        "outputId": "3a0d6db0-482c-4929-acd9-97a58edc0d01"
      },
      "source": [
        "# Task 6.1: Get descriptive statistics for the column 'education'\n",
        "#############################################################\n",
        "data['education'].describe()\n",
        "#############################################################"
      ],
      "execution_count": 15,
      "outputs": [
        {
          "output_type": "execute_result",
          "data": {
            "text/plain": [
              "count         45211\n",
              "unique            6\n",
              "top       secondary\n",
              "freq          23201\n",
              "Name: education, dtype: object"
            ]
          },
          "metadata": {},
          "execution_count": 15
        }
      ]
    },
    {
      "cell_type": "code",
      "source": [
        "# Task 6.2: Get display freqeuncy table for the column 'education' \n",
        "# get row count for each category in the column 'education' \n",
        "#############################################################\n",
        "edu_values = data['education'].value_counts()\n",
        "edu_values\n",
        "#############################################################\n",
        "print(edu_values)"
      ],
      "metadata": {
        "id": "jFnnWLbV2YRB",
        "colab": {
          "base_uri": "https://localhost:8080/"
        },
        "outputId": "97e54192-2693-4259-880a-9f2134572ea9"
      },
      "execution_count": 16,
      "outputs": [
        {
          "output_type": "stream",
          "name": "stdout",
          "text": [
            "secondary    23201\n",
            "tertiary     13300\n",
            "primary       6851\n",
            "unknown       1857\n",
            "tertiory         1\n",
            "seconda**        1\n",
            "Name: education, dtype: int64\n"
          ]
        }
      ]
    },
    {
      "cell_type": "code",
      "source": [
        "data['education'].unique()"
      ],
      "metadata": {
        "colab": {
          "base_uri": "https://localhost:8080/"
        },
        "id": "q1qDY175E-xJ",
        "outputId": "6a35d43f-7b6b-47a7-fbd0-b5d627d28b04"
      },
      "execution_count": 17,
      "outputs": [
        {
          "output_type": "execute_result",
          "data": {
            "text/plain": [
              "array(['tertiary', 'secondary', 'unknown', 'primary', 'tertiory',\n",
              "       'seconda**'], dtype=object)"
            ]
          },
          "metadata": {},
          "execution_count": 17
        }
      ]
    },
    {
      "cell_type": "code",
      "source": [
        "# Task 6.3: If you notice any data issue in category labeling such as potential typo, correct those in the dataset. \n",
        "# Hint 1: Use replace or loc[] to replace the incorrect values with correct ones.\n",
        "# Hint 2: You should see two issues\n",
        "#############################################################\n",
        "data['education'].replace('seconda**', 'secondary', inplace=True)\n",
        "data['education'].replace('tertiory', 'tertiary', inplace=True)\n",
        "#############################################################"
      ],
      "metadata": {
        "id": "liuEqrNG2soQ"
      },
      "execution_count": 18,
      "outputs": []
    },
    {
      "cell_type": "code",
      "source": [
        "# Task 6.4: Get row count for each category in the column 'education'\n",
        "# Hint: Resuse what you did in 6.2 and verify the corrections being applied\n",
        "#############################################################\n",
        "edu_values = data['education'].value_counts()\n",
        "edu_values\n",
        "#############################################################\n",
        "print(edu_values)"
      ],
      "metadata": {
        "id": "xWq0VRSG3kKw",
        "colab": {
          "base_uri": "https://localhost:8080/"
        },
        "outputId": "81dfb1a7-d279-425d-a6fd-5225eb96e213"
      },
      "execution_count": 19,
      "outputs": [
        {
          "output_type": "stream",
          "name": "stdout",
          "text": [
            "secondary    23202\n",
            "tertiary     13301\n",
            "primary       6851\n",
            "unknown       1857\n",
            "Name: education, dtype: int64\n"
          ]
        }
      ]
    },
    {
      "cell_type": "code",
      "metadata": {
        "id": "loW2-4QKLnPp",
        "colab": {
          "base_uri": "https://localhost:8080/",
          "height": 324
        },
        "outputId": "e2819991-ff77-442f-bc19-c0d81277db43"
      },
      "source": [
        "# Task 6.4: Complete the code below <<?>>  to create bar plot for 'education' category column\n",
        "#############################################################\n",
        "edu_values.plot(kind='bar', ylabel='Count')\n",
        "#############################################################"
      ],
      "execution_count": 20,
      "outputs": [
        {
          "output_type": "execute_result",
          "data": {
            "text/plain": [
              "<matplotlib.axes._subplots.AxesSubplot at 0x7f5014ea4350>"
            ]
          },
          "metadata": {},
          "execution_count": 20
        },
        {
          "output_type": "display_data",
          "data": {
            "text/plain": [
              "<Figure size 432x288 with 1 Axes>"
            ],
            "image/png": "[encoded data removed]"
          },
          "metadata": {
            "needs_background": "light"
          }
        }
      ]
    },
    {
      "cell_type": "code",
      "source": [
        "# Task 6.5: Complete the code below to get unique values in the column 'is_subscribed' \n",
        "#############################################################\n",
        "subsc_unique = data['is_subscribed'].unique()\n",
        "#############################################################\n",
        "print(subsc_unique)"
      ],
      "metadata": {
        "id": "gQBeP8j87vdH",
        "colab": {
          "base_uri": "https://localhost:8080/"
        },
        "outputId": "712042b8-ca0e-44a2-e742-ec746542cd9e"
      },
      "execution_count": 21,
      "outputs": [
        {
          "output_type": "stream",
          "name": "stdout",
          "text": [
            "['no' 'no.' 'yes' 'NO' 'yes.']\n"
          ]
        }
      ]
    },
    {
      "cell_type": "code",
      "source": [
        "# Task 6.6: Complete the code below to display freqeuncy table for the column 'is_subscribed' \n",
        "# get row count for each category in the column 'education' \n",
        "#############################################################\n",
        "subsc_value_counts = data['is_subscribed'].value_counts()\n",
        " \n",
        "#############################################################\n",
        "print(subsc_value_counts)"
      ],
      "metadata": {
        "id": "9soW_LdG8XuJ",
        "colab": {
          "base_uri": "https://localhost:8080/"
        },
        "outputId": "c26ca1e1-759a-40b7-b792-2e433829b48e"
      },
      "execution_count": 22,
      "outputs": [
        {
          "output_type": "stream",
          "name": "stdout",
          "text": [
            "no      39918\n",
            "yes      5285\n",
            "yes.        4\n",
            "no.         3\n",
            "NO          1\n",
            "Name: is_subscribed, dtype: int64\n"
          ]
        }
      ]
    },
    {
      "cell_type": "code",
      "source": [
        "# Task 6.7: It can take onlt tw values for 'is_subscribed' column {'yes', 'no'}\n",
        "# Hint: Use replace or loc\n",
        "#############################################################\n",
        "data['is_subscribed'].replace('no.', 'no', inplace=True)\n",
        "data['is_subscribed'].replace('yes.', 'yes', inplace=True)\n",
        "data['is_subscribed'].replace('NO', 'no', inplace=True)\n",
        "#############################################################\n"
      ],
      "metadata": {
        "id": "Exs_DyT18F_s"
      },
      "execution_count": 23,
      "outputs": []
    },
    {
      "cell_type": "code",
      "source": [
        "# Task 6.8: Repeat what you did in Task 6.6 to verify the changes being appplied to teh dataset\n",
        "# get row count for each category in the column 'education' \n",
        "#############################################################\n",
        "subsc_value_counts = data['is_subscribed'].value_counts()\n",
        "#############################################################\n",
        "print(subsc_value_counts)"
      ],
      "metadata": {
        "id": "1HzOfBPV9lh2",
        "colab": {
          "base_uri": "https://localhost:8080/"
        },
        "outputId": "8c1be6ab-f44d-455a-f99e-05979f3fcc89"
      },
      "execution_count": 24,
      "outputs": [
        {
          "output_type": "stream",
          "name": "stdout",
          "text": [
            "no     39922\n",
            "yes     5289\n",
            "Name: is_subscribed, dtype: int64\n"
          ]
        }
      ]
    },
    {
      "cell_type": "code",
      "source": [
        "# Task 6.2: Get display freqeuncy table for the column 'job_type' \n",
        "# get row count for each category in the column 'job_type' \n",
        "#############################################################\n",
        "job_value_counts = data['job_type'].value_counts()\n",
        "#############################################################\n",
        "print(job_value_counts)"
      ],
      "metadata": {
        "id": "ng1UYejAOYP3",
        "colab": {
          "base_uri": "https://localhost:8080/"
        },
        "outputId": "b6c5e5cb-05bb-4c7e-8fe1-e05bcbdeb1df"
      },
      "execution_count": 25,
      "outputs": [
        {
          "output_type": "stream",
          "name": "stdout",
          "text": [
            "blue-collar      9732\n",
            "management       9458\n",
            "technician       7597\n",
            "admin.           5171\n",
            "services         4154\n",
            "retired          2264\n",
            "self-employed    1579\n",
            "entrepreneur     1487\n",
            "unemployed       1303\n",
            "housemaid        1240\n",
            "student           938\n",
            "unknown           288\n",
            "Name: job_type, dtype: int64\n"
          ]
        }
      ]
    },
    {
      "cell_type": "code",
      "source": [
        "# Task 6.3: If you notice any data issue in category labeling such as potential typo, correct those in the dataset. \n",
        "# Hint 1: Use replace or loc[] to replace the incorrect values with correct ones.\n",
        "# Hint 2: You should see two issues\n",
        "#############################################################\n",
        "data['job_type'].<<?>>\n",
        "#############################################################\n",
        "data['job_type'].value_counts()"
      ],
      "metadata": {
        "id": "a5GZfpjgOkdn",
        "colab": {
          "base_uri": "https://localhost:8080/",
          "height": 130
        },
        "outputId": "eb141726-e1d6-49c7-bf52-45ac0a54b4e4"
      },
      "execution_count": 26,
      "outputs": [
        {
          "output_type": "error",
          "ename": "SyntaxError",
          "evalue": "ignored",
          "traceback": [
            "\u001b[0;36m  File \u001b[0;32m\"<ipython-input-26-fecdd1bc214e>\"\u001b[0;36m, line \u001b[0;32m5\u001b[0m\n\u001b[0;31m    data['job_type'].<<?>>\u001b[0m\n\u001b[0m                      ^\u001b[0m\n\u001b[0;31mSyntaxError\u001b[0m\u001b[0;31m:\u001b[0m invalid syntax\n"
          ]
        }
      ]
    },
    {
      "cell_type": "code",
      "source": [
        "# Execute the code below to verify your value replacement worked.\n",
        "\n",
        "data['job_type'].value_counts()"
      ],
      "metadata": {
        "id": "jocs6nbTO2LW",
        "colab": {
          "base_uri": "https://localhost:8080/"
        },
        "outputId": "b248082e-fe74-49ca-d268-6fb5c71aed04"
      },
      "execution_count": 27,
      "outputs": [
        {
          "output_type": "execute_result",
          "data": {
            "text/plain": [
              "blue-collar      9732\n",
              "management       9458\n",
              "technician       7597\n",
              "admin.           5171\n",
              "services         4154\n",
              "retired          2264\n",
              "self-employed    1579\n",
              "entrepreneur     1487\n",
              "unemployed       1303\n",
              "housemaid        1240\n",
              "student           938\n",
              "unknown           288\n",
              "Name: job_type, dtype: int64"
            ]
          },
          "metadata": {},
          "execution_count": 27
        }
      ]
    },
    {
      "cell_type": "markdown",
      "source": [
        "Task 7: Quering Data"
      ],
      "metadata": {
        "id": "DSzNZgSg5dgr"
      }
    },
    {
      "cell_type": "code",
      "metadata": {
        "id": "snt-kmPYLwRw",
        "colab": {
          "base_uri": "https://localhost:8080/",
          "height": 239
        },
        "outputId": "a3c21fbc-1c51-4577-8d7a-34f3e224ada2"
      },
      "source": [
        "# Task 7.1: Display rows where 'average_yearly_balance' greater than 80,000\n",
        "# Hint: Use query() function\n",
        "#############################################################\n",
        "avg_yearly_balance_80k = data.query(\"average_yearly_balance>80000\")\n",
        "avg_yearly_balance_80k.head()\n",
        "#############################################################"
      ],
      "execution_count": 28,
      "outputs": [
        {
          "output_type": "execute_result",
          "data": {
            "text/plain": [
              "        age    job_type marital_status  education has_credit_in_default  \\\n",
              "26227  59.0  management        married   tertiary                    no   \n",
              "39989  51.0  management         single   tertiary                    no   \n",
              "42558  84.0     retired        married  secondary                    no   \n",
              "43393  84.0     retired        married  secondary                    no   \n",
              "\n",
              "       average_yearly_balance has_housing_loan has_personal_loan contact_type  \\\n",
              "26227                   98417               no                no    telephone   \n",
              "39989                  102127               no                no     cellular   \n",
              "42558                   81204               no                no    telephone   \n",
              "43393                   81204               no                no    telephone   \n",
              "\n",
              "       last_contact_day last_contact_month  last_contact_duration  \\\n",
              "26227                20                nov                    145   \n",
              "39989                 3                jun                     90   \n",
              "42558                28                dec                    679   \n",
              "43393                 1                apr                    390   \n",
              "\n",
              "       number_of_contacts  days_since_previous_campaign_contact  \\\n",
              "26227                   5                                  -1.0   \n",
              "39989                   1                                  -1.0   \n",
              "42558                   1                                 313.0   \n",
              "43393                   1                                  94.0   \n",
              "\n",
              "       previous_campaign_contacts previous_campaign_outcome is_subscribed  \n",
              "26227                         0.0                   unknown            no  \n",
              "39989                         0.0                   unknown            no  \n",
              "42558                         2.0                     other           yes  \n",
              "43393                         3.0                   success           yes  "
            ],
            "text/html": [
              "\n",
              "  <div id=\"df-b43eaf81-52ed-4739-9ecf-7bdfc06fcb1f\">\n",
              "    <div class=\"colab-df-container\">\n",
              "      <div>\n",
              "<style scoped>\n",
              "    .dataframe tbody tr th:only-of-type {\n",
              "        vertical-align: middle;\n",
              "    }\n",
              "\n",
              "    .dataframe tbody tr th {\n",
              "        vertical-align: top;\n",
              "    }\n",
              "\n",
              "    .dataframe thead th {\n",
              "        text-align: right;\n",
              "    }\n",
              "</style>\n",
              "<table border=\"1\" class=\"dataframe\">\n",
              "  <thead>\n",
              "    <tr style=\"text-align: right;\">\n",
              "      <th></th>\n",
              "      <th>age</th>\n",
              "      <th>job_type</th>\n",
              "      <th>marital_status</th>\n",
              "      <th>education</th>\n",
              "      <th>has_credit_in_default</th>\n",
              "      <th>average_yearly_balance</th>\n",
              "      <th>has_housing_loan</th>\n",
              "      <th>has_personal_loan</th>\n",
              "      <th>contact_type</th>\n",
              "      <th>last_contact_day</th>\n",
              "      <th>last_contact_month</th>\n",
              "      <th>last_contact_duration</th>\n",
              "      <th>number_of_contacts</th>\n",
              "      <th>days_since_previous_campaign_contact</th>\n",
              "      <th>previous_campaign_contacts</th>\n",
              "      <th>previous_campaign_outcome</th>\n",
              "      <th>is_subscribed</th>\n",
              "    </tr>\n",
              "  </thead>\n",
              "  <tbody>\n",
              "    <tr>\n",
              "      <th>26227</th>\n",
              "      <td>59.0</td>\n",
              "      <td>management</td>\n",
              "      <td>married</td>\n",
              "      <td>tertiary</td>\n",
              "      <td>no</td>\n",
              "      <td>98417</td>\n",
              "      <td>no</td>\n",
              "      <td>no</td>\n",
              "      <td>telephone</td>\n",
              "      <td>20</td>\n",
              "      <td>nov</td>\n",
              "      <td>145</td>\n",
              "      <td>5</td>\n",
              "      <td>-1.0</td>\n",
              "      <td>0.0</td>\n",
              "      <td>unknown</td>\n",
              "      <td>no</td>\n",
              "    </tr>\n",
              "    <tr>\n",
              "      <th>39989</th>\n",
              "      <td>51.0</td>\n",
              "      <td>management</td>\n",
              "      <td>single</td>\n",
              "      <td>tertiary</td>\n",
              "      <td>no</td>\n",
              "      <td>102127</td>\n",
              "      <td>no</td>\n",
              "      <td>no</td>\n",
              "      <td>cellular</td>\n",
              "      <td>3</td>\n",
              "      <td>jun</td>\n",
              "      <td>90</td>\n",
              "      <td>1</td>\n",
              "      <td>-1.0</td>\n",
              "      <td>0.0</td>\n",
              "      <td>unknown</td>\n",
              "      <td>no</td>\n",
              "    </tr>\n",
              "    <tr>\n",
              "      <th>42558</th>\n",
              "      <td>84.0</td>\n",
              "      <td>retired</td>\n",
              "      <td>married</td>\n",
              "      <td>secondary</td>\n",
              "      <td>no</td>\n",
              "      <td>81204</td>\n",
              "      <td>no</td>\n",
              "      <td>no</td>\n",
              "      <td>telephone</td>\n",
              "      <td>28</td>\n",
              "      <td>dec</td>\n",
              "      <td>679</td>\n",
              "      <td>1</td>\n",
              "      <td>313.0</td>\n",
              "      <td>2.0</td>\n",
              "      <td>other</td>\n",
              "      <td>yes</td>\n",
              "    </tr>\n",
              "    <tr>\n",
              "      <th>43393</th>\n",
              "      <td>84.0</td>\n",
              "      <td>retired</td>\n",
              "      <td>married</td>\n",
              "      <td>secondary</td>\n",
              "      <td>no</td>\n",
              "      <td>81204</td>\n",
              "      <td>no</td>\n",
              "      <td>no</td>\n",
              "      <td>telephone</td>\n",
              "      <td>1</td>\n",
              "      <td>apr</td>\n",
              "      <td>390</td>\n",
              "      <td>1</td>\n",
              "      <td>94.0</td>\n",
              "      <td>3.0</td>\n",
              "      <td>success</td>\n",
              "      <td>yes</td>\n",
              "    </tr>\n",
              "  </tbody>\n",
              "</table>\n",
              "</div>\n",
              "      <button class=\"colab-df-convert\" onclick=\"convertToInteractive('df-b43eaf81-52ed-4739-9ecf-7bdfc06fcb1f')\"\n",
              "              title=\"Convert this dataframe to an interactive table.\"\n",
              "              style=\"display:none;\">\n",
              "        \n",
              "  <svg xmlns=\"http://www.w3.org/2000/svg\" height=\"24px\"viewBox=\"0 0 24 24\"\n",
              "       width=\"24px\">\n",
              "    <path d=\"M0 0h24v24H0V0z\" fill=\"none\"/>\n",
              "    <path d=\"M18.56 5.44l.94 2.06.94-2.06 2.06-.94-2.06-.94-.94-2.06-.94 2.06-2.06.94zm-11 1L8.5 8.5l.94-2.06 2.06-.94-2.06-.94L8.5 2.5l-.94 2.06-2.06.94zm10 10l.94 2.06.94-2.06 2.06-.94-2.06-.94-.94-2.06-.94 2.06-2.06.94z\"/><path d=\"M17.41 7.96l-1.37-1.37c-.4-.4-.92-.59-1.43-.59-.52 0-1.04.2-1.43.59L10.3 9.45l-7.72 7.72c-.78.78-.78 2.05 0 2.83L4 21.41c.39.39.9.59 1.41.59.51 0 1.02-.2 1.41-.59l7.78-7.78 2.81-2.81c.8-.78.8-2.07 0-2.86zM5.41 20L4 18.59l7.72-7.72 1.47 1.35L5.41 20z\"/>\n",
              "  </svg>\n",
              "      </button>\n",
              "      \n",
              "  <style>\n",
              "    .colab-df-container {\n",
              "      display:flex;\n",
              "      flex-wrap:wrap;\n",
              "      gap: 12px;\n",
              "    }\n",
              "\n",
              "    .colab-df-convert {\n",
              "      background-color: #E8F0FE;\n",
              "      border: none;\n",
              "      border-radius: 50%;\n",
              "      cursor: pointer;\n",
              "      display: none;\n",
              "      fill: #1967D2;\n",
              "      height: 32px;\n",
              "      padding: 0 0 0 0;\n",
              "      width: 32px;\n",
              "    }\n",
              "\n",
              "    .colab-df-convert:hover {\n",
              "      background-color: #E2EBFA;\n",
              "      box-shadow: 0px 1px 2px rgba(60, 64, 67, 0.3), 0px 1px 3px 1px rgba(60, 64, 67, 0.15);\n",
              "      fill: #174EA6;\n",
              "    }\n",
              "\n",
              "    [theme=dark] .colab-df-convert {\n",
              "      background-color: #3B4455;\n",
              "      fill: #D2E3FC;\n",
              "    }\n",
              "\n",
              "    [theme=dark] .colab-df-convert:hover {\n",
              "      background-color: #434B5C;\n",
              "      box-shadow: 0px 1px 3px 1px rgba(0, 0, 0, 0.15);\n",
              "      filter: drop-shadow(0px 1px 2px rgba(0, 0, 0, 0.3));\n",
              "      fill: #FFFFFF;\n",
              "    }\n",
              "  </style>\n",
              "\n",
              "      <script>\n",
              "        const buttonEl =\n",
              "          document.querySelector('#df-b43eaf81-52ed-4739-9ecf-7bdfc06fcb1f button.colab-df-convert');\n",
              "        buttonEl.style.display =\n",
              "          google.colab.kernel.accessAllowed ? 'block' : 'none';\n",
              "\n",
              "        async function convertToInteractive(key) {\n",
              "          const element = document.querySelector('#df-b43eaf81-52ed-4739-9ecf-7bdfc06fcb1f');\n",
              "          const dataTable =\n",
              "            await google.colab.kernel.invokeFunction('convertToInteractive',\n",
              "                                                     [key], {});\n",
              "          if (!dataTable) return;\n",
              "\n",
              "          const docLinkHtml = 'Like what you see? Visit the ' +\n",
              "            '<a target=\"_blank\" href=https://colab.research.google.com/notebooks/data_table.ipynb>data table notebook</a>'\n",
              "            + ' to learn more about interactive tables.';\n",
              "          element.innerHTML = '';\n",
              "          dataTable['output_type'] = 'display_data';\n",
              "          await google.colab.output.renderOutput(dataTable, element);\n",
              "          const docLink = document.createElement('div');\n",
              "          docLink.innerHTML = docLinkHtml;\n",
              "          element.appendChild(docLink);\n",
              "        }\n",
              "      </script>\n",
              "    </div>\n",
              "  </div>\n",
              "  "
            ]
          },
          "metadata": {},
          "execution_count": 28
        }
      ]
    },
    {
      "cell_type": "code",
      "source": [
        "# Task 7.1: Count rows rows where 'average_yearly_balance' is negative (<0) and 'has_credit_in_default' is 'yes'\n",
        "# Hint: use shape attribute to get the row count of the result set\n",
        "#############################################################\n",
        "negative_bal_w_default_count = data.query(\"average_yearly_balance<0\" & \"has_credit_in_default='yes'\")\n",
        "#############################################################\n",
        "print(negative_bal_w_default_count)"
      ],
      "metadata": {
        "id": "hn45oWm76LZr",
        "colab": {
          "base_uri": "https://localhost:8080/",
          "height": 235
        },
        "outputId": "53406031-8589-42f8-f496-25c2d32d8ad8"
      },
      "execution_count": 29,
      "outputs": [
        {
          "output_type": "error",
          "ename": "TypeError",
          "evalue": "ignored",
          "traceback": [
            "\u001b[0;31m---------------------------------------------------------------------------\u001b[0m",
            "\u001b[0;31mTypeError\u001b[0m                                 Traceback (most recent call last)",
            "\u001b[0;32m<ipython-input-29-3cb128efff21>\u001b[0m in \u001b[0;36m<module>\u001b[0;34m()\u001b[0m\n\u001b[1;32m      2\u001b[0m \u001b[0;31m# Hint: use shape attribute to get the row count of the result set\u001b[0m\u001b[0;34m\u001b[0m\u001b[0;34m\u001b[0m\u001b[0;34m\u001b[0m\u001b[0m\n\u001b[1;32m      3\u001b[0m \u001b[0;31m#############################################################\u001b[0m\u001b[0;34m\u001b[0m\u001b[0;34m\u001b[0m\u001b[0;34m\u001b[0m\u001b[0m\n\u001b[0;32m----> 4\u001b[0;31m \u001b[0mnegative_bal_w_default_count\u001b[0m \u001b[0;34m=\u001b[0m \u001b[0mdata\u001b[0m\u001b[0;34m.\u001b[0m\u001b[0mquery\u001b[0m\u001b[0;34m(\u001b[0m\u001b[0;34m\"average_yearly_balance<0\"\u001b[0m \u001b[0;34m&\u001b[0m \u001b[0;34m\"has_credit_in_default='yes'\"\u001b[0m\u001b[0;34m)\u001b[0m\u001b[0;34m\u001b[0m\u001b[0;34m\u001b[0m\u001b[0m\n\u001b[0m\u001b[1;32m      5\u001b[0m \u001b[0;31m#############################################################\u001b[0m\u001b[0;34m\u001b[0m\u001b[0;34m\u001b[0m\u001b[0;34m\u001b[0m\u001b[0m\n\u001b[1;32m      6\u001b[0m \u001b[0mprint\u001b[0m\u001b[0;34m(\u001b[0m\u001b[0mnegative_bal_w_default_count\u001b[0m\u001b[0;34m)\u001b[0m\u001b[0;34m\u001b[0m\u001b[0;34m\u001b[0m\u001b[0m\n",
            "\u001b[0;31mTypeError\u001b[0m: unsupported operand type(s) for &: 'str' and 'str'"
          ]
        }
      ]
    },
    {
      "cell_type": "markdown",
      "source": [
        "Task 8: Encoding"
      ],
      "metadata": {
        "id": "nXaGPxPi7QdS"
      }
    },
    {
      "cell_type": "code",
      "metadata": {
        "id": "jzzGKl2XMXBH"
      },
      "source": [
        "# Task 8.1 Encode the columns 'has_credit_in_default',\t'has_housing_loan', \t'has_personal_loan' and 'is_subscribed' with the condition below\n",
        "# 'yes' -> 1\n",
        "# 'no' -> 0\n",
        "# Hint 1: You can use np.where()\n",
        "# Hint 2: You can apply this encoding one column at a time\n",
        "#############################################################\n",
        "data['has_credit_in_default'] = np.where(data['has_credit_in_default']=='yes', 1, 0) \n",
        "data['has_housing_loan'] = np.where(data['has_housing_loan']=='yes', 1, 0)\n",
        "data['has_personal_loan'] = np.where(data['has_personal_loan']=='yes', 1, 0)\n",
        "data['is_subscribed'] = np.where(data['is_subscribed']=='yes', 1, 0)\n",
        "#############################################################"
      ],
      "execution_count": 58,
      "outputs": []
    },
    {
      "cell_type": "code",
      "source": [
        "# Task 8.2 Convert column 'previous_campaign_contacted' to binary follwoing the condition below\n",
        "# if previous_campaign_contacted > 1 then 1 \n",
        "# if previous_campaign_contacted == 0 or None then 0\n",
        "# Create a new column\n",
        "#############################################################\n",
        "data['previous_campaign_contact']=np.where(data['previous_campaign_contact']>'1', 1, 0)\n",
        "#############################################################"
      ],
      "metadata": {
        "id": "RBkwk7slEIz_",
        "colab": {
          "base_uri": "https://localhost:8080/",
          "height": 502
        },
        "outputId": "52c5695e-5dec-49bc-d6e2-9a5a74f7500f"
      },
      "execution_count": 31,
      "outputs": [
        {
          "output_type": "error",
          "ename": "KeyError",
          "evalue": "ignored",
          "traceback": [
            "\u001b[0;31m---------------------------------------------------------------------------\u001b[0m",
            "\u001b[0;31mKeyError\u001b[0m                                  Traceback (most recent call last)",
            "\u001b[0;32m/usr/local/lib/python3.7/dist-packages/pandas/core/indexes/base.py\u001b[0m in \u001b[0;36mget_loc\u001b[0;34m(self, key, method, tolerance)\u001b[0m\n\u001b[1;32m   3360\u001b[0m             \u001b[0;32mtry\u001b[0m\u001b[0;34m:\u001b[0m\u001b[0;34m\u001b[0m\u001b[0;34m\u001b[0m\u001b[0m\n\u001b[0;32m-> 3361\u001b[0;31m                 \u001b[0;32mreturn\u001b[0m \u001b[0mself\u001b[0m\u001b[0;34m.\u001b[0m\u001b[0m_engine\u001b[0m\u001b[0;34m.\u001b[0m\u001b[0mget_loc\u001b[0m\u001b[0;34m(\u001b[0m\u001b[0mcasted_key\u001b[0m\u001b[0;34m)\u001b[0m\u001b[0;34m\u001b[0m\u001b[0;34m\u001b[0m\u001b[0m\n\u001b[0m\u001b[1;32m   3362\u001b[0m             \u001b[0;32mexcept\u001b[0m \u001b[0mKeyError\u001b[0m \u001b[0;32mas\u001b[0m \u001b[0merr\u001b[0m\u001b[0;34m:\u001b[0m\u001b[0;34m\u001b[0m\u001b[0;34m\u001b[0m\u001b[0m\n",
            "\u001b[0;32m/usr/local/lib/python3.7/dist-packages/pandas/_libs/index.pyx\u001b[0m in \u001b[0;36mpandas._libs.index.IndexEngine.get_loc\u001b[0;34m()\u001b[0m\n",
            "\u001b[0;32m/usr/local/lib/python3.7/dist-packages/pandas/_libs/index.pyx\u001b[0m in \u001b[0;36mpandas._libs.index.IndexEngine.get_loc\u001b[0;34m()\u001b[0m\n",
            "\u001b[0;32mpandas/_libs/hashtable_class_helper.pxi\u001b[0m in \u001b[0;36mpandas._libs.hashtable.PyObjectHashTable.get_item\u001b[0;34m()\u001b[0m\n",
            "\u001b[0;32mpandas/_libs/hashtable_class_helper.pxi\u001b[0m in \u001b[0;36mpandas._libs.hashtable.PyObjectHashTable.get_item\u001b[0;34m()\u001b[0m\n",
            "\u001b[0;31mKeyError\u001b[0m: 'previous_campaign_contact'",
            "\nThe above exception was the direct cause of the following exception:\n",
            "\u001b[0;31mKeyError\u001b[0m                                  Traceback (most recent call last)",
            "\u001b[0;32m<ipython-input-31-1af1715270f0>\u001b[0m in \u001b[0;36m<module>\u001b[0;34m()\u001b[0m\n\u001b[1;32m      4\u001b[0m \u001b[0;31m# Create a new column\u001b[0m\u001b[0;34m\u001b[0m\u001b[0;34m\u001b[0m\u001b[0;34m\u001b[0m\u001b[0m\n\u001b[1;32m      5\u001b[0m \u001b[0;31m#############################################################\u001b[0m\u001b[0;34m\u001b[0m\u001b[0;34m\u001b[0m\u001b[0;34m\u001b[0m\u001b[0m\n\u001b[0;32m----> 6\u001b[0;31m \u001b[0mdata\u001b[0m\u001b[0;34m[\u001b[0m\u001b[0;34m'previous_campaign_contact'\u001b[0m\u001b[0;34m]\u001b[0m\u001b[0;34m=\u001b[0m\u001b[0mnp\u001b[0m\u001b[0;34m.\u001b[0m\u001b[0mwhere\u001b[0m\u001b[0;34m(\u001b[0m\u001b[0mdata\u001b[0m\u001b[0;34m[\u001b[0m\u001b[0;34m'previous_campaign_contact'\u001b[0m\u001b[0;34m]\u001b[0m\u001b[0;34m>\u001b[0m\u001b[0;34m'1'\u001b[0m\u001b[0;34m,\u001b[0m \u001b[0;36m1\u001b[0m\u001b[0;34m,\u001b[0m \u001b[0;36m0\u001b[0m\u001b[0;34m)\u001b[0m\u001b[0;34m\u001b[0m\u001b[0;34m\u001b[0m\u001b[0m\n\u001b[0m\u001b[1;32m      7\u001b[0m \u001b[0;31m#############################################################\u001b[0m\u001b[0;34m\u001b[0m\u001b[0;34m\u001b[0m\u001b[0;34m\u001b[0m\u001b[0m\n",
            "\u001b[0;32m/usr/local/lib/python3.7/dist-packages/pandas/core/frame.py\u001b[0m in \u001b[0;36m__getitem__\u001b[0;34m(self, key)\u001b[0m\n\u001b[1;32m   3456\u001b[0m             \u001b[0;32mif\u001b[0m \u001b[0mself\u001b[0m\u001b[0;34m.\u001b[0m\u001b[0mcolumns\u001b[0m\u001b[0;34m.\u001b[0m\u001b[0mnlevels\u001b[0m \u001b[0;34m>\u001b[0m \u001b[0;36m1\u001b[0m\u001b[0;34m:\u001b[0m\u001b[0;34m\u001b[0m\u001b[0;34m\u001b[0m\u001b[0m\n\u001b[1;32m   3457\u001b[0m                 \u001b[0;32mreturn\u001b[0m \u001b[0mself\u001b[0m\u001b[0;34m.\u001b[0m\u001b[0m_getitem_multilevel\u001b[0m\u001b[0;34m(\u001b[0m\u001b[0mkey\u001b[0m\u001b[0;34m)\u001b[0m\u001b[0;34m\u001b[0m\u001b[0;34m\u001b[0m\u001b[0m\n\u001b[0;32m-> 3458\u001b[0;31m             \u001b[0mindexer\u001b[0m \u001b[0;34m=\u001b[0m \u001b[0mself\u001b[0m\u001b[0;34m.\u001b[0m\u001b[0mcolumns\u001b[0m\u001b[0;34m.\u001b[0m\u001b[0mget_loc\u001b[0m\u001b[0;34m(\u001b[0m\u001b[0mkey\u001b[0m\u001b[0;34m)\u001b[0m\u001b[0;34m\u001b[0m\u001b[0;34m\u001b[0m\u001b[0m\n\u001b[0m\u001b[1;32m   3459\u001b[0m             \u001b[0;32mif\u001b[0m \u001b[0mis_integer\u001b[0m\u001b[0;34m(\u001b[0m\u001b[0mindexer\u001b[0m\u001b[0;34m)\u001b[0m\u001b[0;34m:\u001b[0m\u001b[0;34m\u001b[0m\u001b[0;34m\u001b[0m\u001b[0m\n\u001b[1;32m   3460\u001b[0m                 \u001b[0mindexer\u001b[0m \u001b[0;34m=\u001b[0m \u001b[0;34m[\u001b[0m\u001b[0mindexer\u001b[0m\u001b[0;34m]\u001b[0m\u001b[0;34m\u001b[0m\u001b[0;34m\u001b[0m\u001b[0m\n",
            "\u001b[0;32m/usr/local/lib/python3.7/dist-packages/pandas/core/indexes/base.py\u001b[0m in \u001b[0;36mget_loc\u001b[0;34m(self, key, method, tolerance)\u001b[0m\n\u001b[1;32m   3361\u001b[0m                 \u001b[0;32mreturn\u001b[0m \u001b[0mself\u001b[0m\u001b[0;34m.\u001b[0m\u001b[0m_engine\u001b[0m\u001b[0;34m.\u001b[0m\u001b[0mget_loc\u001b[0m\u001b[0;34m(\u001b[0m\u001b[0mcasted_key\u001b[0m\u001b[0;34m)\u001b[0m\u001b[0;34m\u001b[0m\u001b[0;34m\u001b[0m\u001b[0m\n\u001b[1;32m   3362\u001b[0m             \u001b[0;32mexcept\u001b[0m \u001b[0mKeyError\u001b[0m \u001b[0;32mas\u001b[0m \u001b[0merr\u001b[0m\u001b[0;34m:\u001b[0m\u001b[0;34m\u001b[0m\u001b[0;34m\u001b[0m\u001b[0m\n\u001b[0;32m-> 3363\u001b[0;31m                 \u001b[0;32mraise\u001b[0m \u001b[0mKeyError\u001b[0m\u001b[0;34m(\u001b[0m\u001b[0mkey\u001b[0m\u001b[0;34m)\u001b[0m \u001b[0;32mfrom\u001b[0m \u001b[0merr\u001b[0m\u001b[0;34m\u001b[0m\u001b[0;34m\u001b[0m\u001b[0m\n\u001b[0m\u001b[1;32m   3364\u001b[0m \u001b[0;34m\u001b[0m\u001b[0m\n\u001b[1;32m   3365\u001b[0m         \u001b[0;32mif\u001b[0m \u001b[0mis_scalar\u001b[0m\u001b[0;34m(\u001b[0m\u001b[0mkey\u001b[0m\u001b[0;34m)\u001b[0m \u001b[0;32mand\u001b[0m \u001b[0misna\u001b[0m\u001b[0;34m(\u001b[0m\u001b[0mkey\u001b[0m\u001b[0;34m)\u001b[0m \u001b[0;32mand\u001b[0m \u001b[0;32mnot\u001b[0m \u001b[0mself\u001b[0m\u001b[0;34m.\u001b[0m\u001b[0mhasnans\u001b[0m\u001b[0;34m:\u001b[0m\u001b[0;34m\u001b[0m\u001b[0;34m\u001b[0m\u001b[0m\n",
            "\u001b[0;31mKeyError\u001b[0m: 'previous_campaign_contact'"
          ]
        }
      ]
    },
    {
      "cell_type": "code",
      "metadata": {
        "id": "6spfK_5TPTUz",
        "colab": {
          "base_uri": "https://localhost:8080/",
          "height": 380
        },
        "outputId": "13b058cd-d512-4366-fafe-a5a268fdc433"
      },
      "source": [
        "# Task 8.3 Get the descriptive statistics of the columns 'has_credit_in_default',\t'has_housing_loan', \t'has_personal_loan', 'previous_campaign_contacted',  and 'is_subscribed'\n",
        "#############################################################\n",
        "data[['has_credit_in_default','has_housing_loan', 'has_personal_loan' , 'previous_campaign_contacted', 'is_subscribed' ]].describe()\n",
        "#############################################################\n"
      ],
      "execution_count": 59,
      "outputs": [
        {
          "output_type": "error",
          "ename": "KeyError",
          "evalue": "ignored",
          "traceback": [
            "\u001b[0;31m---------------------------------------------------------------------------\u001b[0m",
            "\u001b[0;31mKeyError\u001b[0m                                  Traceback (most recent call last)",
            "\u001b[0;32m<ipython-input-59-f16ddb5fb497>\u001b[0m in \u001b[0;36m<module>\u001b[0;34m()\u001b[0m\n\u001b[1;32m      1\u001b[0m \u001b[0;31m# Task 8.3 Get the descriptive statistics of the columns 'has_credit_in_default',       'has_housing_loan',     'has_personal_loan', 'previous_campaign_contacted',  and 'is_subscribed'\u001b[0m\u001b[0;34m\u001b[0m\u001b[0;34m\u001b[0m\u001b[0;34m\u001b[0m\u001b[0m\n\u001b[1;32m      2\u001b[0m \u001b[0;31m#############################################################\u001b[0m\u001b[0;34m\u001b[0m\u001b[0;34m\u001b[0m\u001b[0;34m\u001b[0m\u001b[0m\n\u001b[0;32m----> 3\u001b[0;31m \u001b[0mdata\u001b[0m\u001b[0;34m[\u001b[0m\u001b[0;34m[\u001b[0m\u001b[0;34m'has_credit_in_default'\u001b[0m\u001b[0;34m,\u001b[0m\u001b[0;34m'has_housing_loan'\u001b[0m\u001b[0;34m,\u001b[0m \u001b[0;34m'has_personal_loan'\u001b[0m \u001b[0;34m,\u001b[0m \u001b[0;34m'previous_campaign_contacted'\u001b[0m\u001b[0;34m,\u001b[0m \u001b[0;34m'is_subscribed'\u001b[0m \u001b[0;34m]\u001b[0m\u001b[0;34m]\u001b[0m\u001b[0;34m.\u001b[0m\u001b[0mdescribe\u001b[0m\u001b[0;34m(\u001b[0m\u001b[0;34m)\u001b[0m\u001b[0;34m\u001b[0m\u001b[0;34m\u001b[0m\u001b[0m\n\u001b[0m\u001b[1;32m      4\u001b[0m \u001b[0;31m#############################################################\u001b[0m\u001b[0;34m\u001b[0m\u001b[0;34m\u001b[0m\u001b[0;34m\u001b[0m\u001b[0m\n",
            "\u001b[0;32m/usr/local/lib/python3.7/dist-packages/pandas/core/frame.py\u001b[0m in \u001b[0;36m__getitem__\u001b[0;34m(self, key)\u001b[0m\n\u001b[1;32m   3462\u001b[0m             \u001b[0;32mif\u001b[0m \u001b[0mis_iterator\u001b[0m\u001b[0;34m(\u001b[0m\u001b[0mkey\u001b[0m\u001b[0;34m)\u001b[0m\u001b[0;34m:\u001b[0m\u001b[0;34m\u001b[0m\u001b[0;34m\u001b[0m\u001b[0m\n\u001b[1;32m   3463\u001b[0m                 \u001b[0mkey\u001b[0m \u001b[0;34m=\u001b[0m \u001b[0mlist\u001b[0m\u001b[0;34m(\u001b[0m\u001b[0mkey\u001b[0m\u001b[0;34m)\u001b[0m\u001b[0;34m\u001b[0m\u001b[0;34m\u001b[0m\u001b[0m\n\u001b[0;32m-> 3464\u001b[0;31m             \u001b[0mindexer\u001b[0m \u001b[0;34m=\u001b[0m \u001b[0mself\u001b[0m\u001b[0;34m.\u001b[0m\u001b[0mloc\u001b[0m\u001b[0;34m.\u001b[0m\u001b[0m_get_listlike_indexer\u001b[0m\u001b[0;34m(\u001b[0m\u001b[0mkey\u001b[0m\u001b[0;34m,\u001b[0m \u001b[0maxis\u001b[0m\u001b[0;34m=\u001b[0m\u001b[0;36m1\u001b[0m\u001b[0;34m)\u001b[0m\u001b[0;34m[\u001b[0m\u001b[0;36m1\u001b[0m\u001b[0;34m]\u001b[0m\u001b[0;34m\u001b[0m\u001b[0;34m\u001b[0m\u001b[0m\n\u001b[0m\u001b[1;32m   3465\u001b[0m \u001b[0;34m\u001b[0m\u001b[0m\n\u001b[1;32m   3466\u001b[0m         \u001b[0;31m# take() does not accept boolean indexers\u001b[0m\u001b[0;34m\u001b[0m\u001b[0;34m\u001b[0m\u001b[0;34m\u001b[0m\u001b[0m\n",
            "\u001b[0;32m/usr/local/lib/python3.7/dist-packages/pandas/core/indexing.py\u001b[0m in \u001b[0;36m_get_listlike_indexer\u001b[0;34m(self, key, axis)\u001b[0m\n\u001b[1;32m   1312\u001b[0m             \u001b[0mkeyarr\u001b[0m\u001b[0;34m,\u001b[0m \u001b[0mindexer\u001b[0m\u001b[0;34m,\u001b[0m \u001b[0mnew_indexer\u001b[0m \u001b[0;34m=\u001b[0m \u001b[0max\u001b[0m\u001b[0;34m.\u001b[0m\u001b[0m_reindex_non_unique\u001b[0m\u001b[0;34m(\u001b[0m\u001b[0mkeyarr\u001b[0m\u001b[0;34m)\u001b[0m\u001b[0;34m\u001b[0m\u001b[0;34m\u001b[0m\u001b[0m\n\u001b[1;32m   1313\u001b[0m \u001b[0;34m\u001b[0m\u001b[0m\n\u001b[0;32m-> 1314\u001b[0;31m         \u001b[0mself\u001b[0m\u001b[0;34m.\u001b[0m\u001b[0m_validate_read_indexer\u001b[0m\u001b[0;34m(\u001b[0m\u001b[0mkeyarr\u001b[0m\u001b[0;34m,\u001b[0m \u001b[0mindexer\u001b[0m\u001b[0;34m,\u001b[0m \u001b[0maxis\u001b[0m\u001b[0;34m)\u001b[0m\u001b[0;34m\u001b[0m\u001b[0;34m\u001b[0m\u001b[0m\n\u001b[0m\u001b[1;32m   1315\u001b[0m \u001b[0;34m\u001b[0m\u001b[0m\n\u001b[1;32m   1316\u001b[0m         if needs_i8_conversion(ax.dtype) or isinstance(\n",
            "\u001b[0;32m/usr/local/lib/python3.7/dist-packages/pandas/core/indexing.py\u001b[0m in \u001b[0;36m_validate_read_indexer\u001b[0;34m(self, key, indexer, axis)\u001b[0m\n\u001b[1;32m   1375\u001b[0m \u001b[0;34m\u001b[0m\u001b[0m\n\u001b[1;32m   1376\u001b[0m             \u001b[0mnot_found\u001b[0m \u001b[0;34m=\u001b[0m \u001b[0mlist\u001b[0m\u001b[0;34m(\u001b[0m\u001b[0mensure_index\u001b[0m\u001b[0;34m(\u001b[0m\u001b[0mkey\u001b[0m\u001b[0;34m)\u001b[0m\u001b[0;34m[\u001b[0m\u001b[0mmissing_mask\u001b[0m\u001b[0;34m.\u001b[0m\u001b[0mnonzero\u001b[0m\u001b[0;34m(\u001b[0m\u001b[0;34m)\u001b[0m\u001b[0;34m[\u001b[0m\u001b[0;36m0\u001b[0m\u001b[0;34m]\u001b[0m\u001b[0;34m]\u001b[0m\u001b[0;34m.\u001b[0m\u001b[0munique\u001b[0m\u001b[0;34m(\u001b[0m\u001b[0;34m)\u001b[0m\u001b[0;34m)\u001b[0m\u001b[0;34m\u001b[0m\u001b[0;34m\u001b[0m\u001b[0m\n\u001b[0;32m-> 1377\u001b[0;31m             \u001b[0;32mraise\u001b[0m \u001b[0mKeyError\u001b[0m\u001b[0;34m(\u001b[0m\u001b[0;34mf\"{not_found} not in index\"\u001b[0m\u001b[0;34m)\u001b[0m\u001b[0;34m\u001b[0m\u001b[0;34m\u001b[0m\u001b[0m\n\u001b[0m\u001b[1;32m   1378\u001b[0m \u001b[0;34m\u001b[0m\u001b[0m\n\u001b[1;32m   1379\u001b[0m \u001b[0;34m\u001b[0m\u001b[0m\n",
            "\u001b[0;31mKeyError\u001b[0m: \"['previous_campaign_contacted'] not in index\""
          ]
        }
      ]
    },
    {
      "cell_type": "markdown",
      "source": [
        "* Task 9: Binning"
      ],
      "metadata": {
        "id": "vluyyaIcQ5kw"
      }
    },
    {
      "cell_type": "code",
      "source": [
        "edges = [-np.inf, 0, 100, 500, 1000, 5000, np.inf]\n",
        "# Task 9.1 complete the code below to convert numeric variable 'average_yearly_balance' to categorical variable using cut() function and list of edges above\n",
        "#############################################################\n",
        "data['avg_yearly_balance_bin'] = pd.cut(x=data['average_yearly_balance'], bins=edges) #labels=labels)\n",
        "\n",
        "\n",
        "#############################################################"
      ],
      "metadata": {
        "id": "vrS2rDk6Q0pL"
      },
      "execution_count": 38,
      "outputs": []
    },
    {
      "cell_type": "code",
      "source": [
        "# Execute the code below to verify your encoding worked.\n",
        "data['avg_yearly_balance_bin'].value_counts()"
      ],
      "metadata": {
        "id": "0pzd1f1SSg-Q",
        "colab": {
          "base_uri": "https://localhost:8080/"
        },
        "outputId": "b3a36b4e-7c9f-43cc-cf9f-433181af7ca1"
      },
      "execution_count": 39,
      "outputs": [
        {
          "output_type": "execute_result",
          "data": {
            "text/plain": [
              "(1000.0, 5000.0]    11786\n",
              "(100.0, 500.0]      11190\n",
              "(-inf, 0.0]          7280\n",
              "(500.0, 1000.0]      6915\n",
              "(0.0, 100.0]         5195\n",
              "(5000.0, inf]        2845\n",
              "Name: avg_yearly_balance_bin, dtype: int64"
            ]
          },
          "metadata": {},
          "execution_count": 39
        }
      ]
    },
    {
      "cell_type": "code",
      "source": [
        "edges = [0, 1, 2, 5, np.inf]\n",
        "# Task 9.2 complete the code below to convert numeric variable 'number_of_contacts' to categorical variable using cut() function and list of edges above\n",
        "#############################################################\n",
        "data['number_of_contacts_bin'] = pd.cut(x=data['number_of_contacts'], bins=edges) #labels=labels)\n",
        "#############################################################"
      ],
      "metadata": {
        "id": "sWVags65LRxf"
      },
      "execution_count": 40,
      "outputs": []
    },
    {
      "cell_type": "code",
      "source": [
        "# Execute the code below to verify your encoding worked.\n",
        "data['number_of_contacts_bin'].value_counts()"
      ],
      "metadata": {
        "id": "fDKogM-vN0UE",
        "colab": {
          "base_uri": "https://localhost:8080/"
        },
        "outputId": "49563565-d506-4981-8785-25d173ad74c1"
      },
      "execution_count": 41,
      "outputs": [
        {
          "output_type": "execute_result",
          "data": {
            "text/plain": [
              "(0.0, 1.0]    17544\n",
              "(1.0, 2.0]    12505\n",
              "(2.0, 5.0]    10807\n",
              "(5.0, inf]     4355\n",
              "Name: number_of_contacts_bin, dtype: int64"
            ]
          },
          "metadata": {},
          "execution_count": 41
        }
      ]
    },
    {
      "cell_type": "code",
      "source": [
        "edges = [0, 30, 45, 60,  np.inf]\n",
        "# Task 9.3 complete the code below to convert numeric variable 'age' to categorical variable using cut() function and list of edges above\n",
        "#############################################################\n",
        "data['age_bin'] = pd.cut(x=data['age'], bins=edges) #labels=labels)\n",
        "#############################################################\n"
      ],
      "metadata": {
        "id": "PcBIH8X8GtDv"
      },
      "execution_count": 48,
      "outputs": []
    },
    {
      "cell_type": "code",
      "source": [
        "# Execute the code below to verify your encoding worked.\n",
        "data['age_bin'].value_counts()"
      ],
      "metadata": {
        "id": "M2K4NANcGvDz",
        "colab": {
          "base_uri": "https://localhost:8080/"
        },
        "outputId": "22757d56-26dd-4c09-897d-ba087c459505"
      },
      "execution_count": 49,
      "outputs": [
        {
          "output_type": "execute_result",
          "data": {
            "text/plain": [
              "(30.0, 45.0]    23733\n",
              "(45.0, 60.0]    13258\n",
              "(0.0, 30.0]      7030\n",
              "(60.0, inf]      1189\n",
              "Name: age_bin, dtype: int64"
            ]
          },
          "metadata": {},
          "execution_count": 49
        }
      ]
    },
    {
      "cell_type": "markdown",
      "source": [
        "* One-hot encoding categorical variables"
      ],
      "metadata": {
        "id": "JCk6PWWsN8ri"
      }
    },
    {
      "cell_type": "code",
      "source": [
        "# Execute teh code below to create dummy variables from categorical columns\n",
        "data = pd.concat([data, pd.get_dummies(data[['education', 'job_type', 'marital_status', 'contact_type', \n",
        "                                             'previous_campaign_outcome', 'avg_yearly_balance_bin', 'age_bin', 'number_of_contacts_bin']])], axis=1)"
      ],
      "metadata": {
        "id": "gR1AUrm1y7ne"
      },
      "execution_count": 50,
      "outputs": []
    },
    {
      "cell_type": "markdown",
      "source": [
        "* Task 10: Get Corrrection Matrix"
      ],
      "metadata": {
        "id": "DQ3zPFDnS631"
      }
    },
    {
      "cell_type": "code",
      "source": [
        "# Task 10 Complete the code below to get correlation matrix for numeric columns in the lsit below (including the converted ones)\n",
        "# Hint 1: replace <<1>> with corr_columns_list\n",
        "# Hint 2: replace <<2>> with the appropriate function\n",
        "corr_columns_list = ['age', 'job_type', 'marital_status', 'education', 'has_credit_in_default', 'has_housing_loan',\n",
        "       'has_personal_loan',  'avg_yearly_balance_bin', 'number_of_contacts', 'is_subscribed']\n",
        "\n",
        "#############################################################\n",
        "data[<<?>>].<<?>>()\n",
        "#############################################################"
      ],
      "metadata": {
        "id": "s30JbJIkS4rv"
      },
      "execution_count": null,
      "outputs": []
    },
    {
      "cell_type": "markdown",
      "metadata": {
        "id": "Zju6GddqOWuq"
      },
      "source": [
        "# 5. Building a Machine Learning model"
      ]
    },
    {
      "cell_type": "markdown",
      "source": [
        "* Sample Dataset to reduce imbalanceness"
      ],
      "metadata": {
        "id": "EHnILsqDOoua"
      }
    },
    {
      "cell_type": "code",
      "source": [
        "# Execute the code below to reduce imbalanceness.\n",
        "data = data.query(\"is_subscribed==1\").sample(5000).append(data.query(\"is_subscribed==0\").sample(15000))"
      ],
      "metadata": {
        "id": "xDgOdYYQAYyP"
      },
      "execution_count": 51,
      "outputs": []
    },
    {
      "cell_type": "code",
      "source": [
        "model_columns_list = ['has_credit_in_default', 'has_housing_loan', 'has_personal_loan',\n",
        "      'education_primary', 'education_secondary', 'education_tertiary', 'education_unknown',\n",
        "       'job_type_admin', 'job_type_blue-collar', 'job_type_entrepreneur',\n",
        "       'job_type_housemaid', 'job_type_management', 'job_type_retired',\n",
        "       'job_type_self-employed', 'job_type_services', 'job_type_student',\n",
        "       'job_type_technician', 'job_type_unemployed', 'job_type_unknown',\n",
        "       'marital_status_divorced', 'marital_status_married', 'marital_status_single', \n",
        "       'contact_type_cellular', 'contact_type_telephone', 'contact_type_unknown', \n",
        "       'previous_campaign_outcome_failure','previous_campaign_outcome_other', 'previous_campaign_outcome_success', 'previous_campaign_outcome_unknown', \n",
        "       'avg_yearly_balance_bin_(-inf, 0.0]', 'avg_yearly_balance_bin_(0.0, 100.0]',\n",
        "       'avg_yearly_balance_bin_(100.0, 500.0]', 'avg_yearly_balance_bin_(500.0, 1000.0]',\n",
        "       'avg_yearly_balance_bin_(1000.0, 5000.0]', 'avg_yearly_balance_bin_(5000.0, inf]', \n",
        "       'age_bin_(0.0, 30.0]', 'age_bin_(30.0, 45.0]', 'age_bin_(45.0, 60.0]', 'age_bin_(60.0, inf]',\n",
        "       'number_of_contacts_bin_(0.0, 1.0]', 'number_of_contacts_bin_(1.0, 2.0]',\n",
        "       'number_of_contacts_bin_(2.0, 5.0]', 'number_of_contacts_bin_(5.0, inf]', 'is_subscribed']"
      ],
      "metadata": {
        "id": "GBJQwLkWKLsF"
      },
      "execution_count": null,
      "outputs": []
    },
    {
      "cell_type": "markdown",
      "source": [
        "* Task 11: Identifying X Variables and y variable (target) then train-test split"
      ],
      "metadata": {
        "id": "LhZyGrcID59D"
      }
    },
    {
      "cell_type": "code",
      "metadata": {
        "id": "bGiKsFXzM7rY"
      },
      "source": [
        "# Task 11.1: From teh columns in the list 'model_columns_list' above, identify indepenet (X) and dependent (y) variables and complete the code below. \n",
        "# Hint 1: You can type or copy the column names from the 'model_columns_list'.\n",
        "# Hint 2 : Replace <<?>>\n",
        "#############################################################\n",
        "X_variables = [<<?>>]\n",
        "      \n",
        "y_variable = '<<?>>'\n",
        "#############################################################\n",
        "\n",
        "print(F\"X_variables = {X_variables}\")\n",
        "print(F\"y_variable = {y_variable}\")"
      ],
      "execution_count": null,
      "outputs": []
    },
    {
      "cell_type": "code",
      "source": [
        "# Task 11.2: Split dataset into training and testing using\n",
        "# Hint 1: Replace <<1>> by the appropriate function name\n",
        "# Hint 2: Replace  <<2>>, <<3>> by appropriate variables created in the task 11.1\n",
        "#############################################################\n",
        "from sklearn.model_selection import <<1>>\n",
        "X_train, X_test, y_train, y_test = <<1>>(data[<<2>>], data[<<3>>], test_size=0.3, random_state=42)\n",
        "#############################################################\n",
        "\n",
        "print(F\"X_train = {X_train.shape[0]}\")\n",
        "print(F\"y_train = {len(y_train)}\")\n",
        "print(F\"X_test = {X_test.shape[0]}\")\n",
        "print(F\"y_test = {len(y_test)}\")"
      ],
      "metadata": {
        "id": "LAZ6g86xUPIv"
      },
      "execution_count": null,
      "outputs": []
    },
    {
      "cell_type": "code",
      "source": [
        "# Execute code below to display first five rows of the feature datset\n",
        "X_train.head()"
      ],
      "metadata": {
        "id": "qkSiCVOcPUuI"
      },
      "execution_count": null,
      "outputs": []
    },
    {
      "cell_type": "markdown",
      "source": [
        "* Task 12:  Train Classification Model and predict"
      ],
      "metadata": {
        "id": "tAWdKtpjCfdL"
      }
    },
    {
      "cell_type": "code",
      "metadata": {
        "id": "VxZYPsMJd5d1"
      },
      "source": [
        "# Task 12.1 Train model\n",
        "# Hint 1: Replace <<1>> by the appropriate class name to create RandomForest model object\n",
        "# Hint 2: Replace <<2>> by the appropriate function name \n",
        "#############################################################\n",
        "from sklearn.tree import RandomForestClassifier\n",
        "model = <<1>>(random_state=0, max_depth=5, min_samples_split=5)\n",
        "model.<<2>>(X_train, y_train)\n",
        "#############################################################"
      ],
      "execution_count": null,
      "outputs": []
    },
    {
      "cell_type": "code",
      "metadata": {
        "id": "B24PH6jJd-3B"
      },
      "source": [
        "# Execute teh code below to get class labels\n",
        "class_labels = [str(c) for c in model.classes_]\n",
        "class_labels "
      ],
      "execution_count": null,
      "outputs": []
    },
    {
      "cell_type": "code",
      "source": [
        "# Task 12.2 Make predictions\n",
        "#############################################################\n",
        "y_pred_prob = model.<<1>>(X_test)\n",
        "y_pred = model.<<2>>(X_test)\n",
        "#############################################################"
      ],
      "metadata": {
        "id": "ENtHgGHdSazQ"
      },
      "execution_count": null,
      "outputs": []
    },
    {
      "cell_type": "code",
      "source": [
        "# Execute the code below to construct results dataframe\n",
        "test_result = pd.DataFrame(data={'y_act':y_test, 'y_pred':y_pred, 'y_pred_prob':y_pred_prob})\n",
        "test_result.sample(5)"
      ],
      "metadata": {
        "id": "G9e-HGEjSkGl"
      },
      "execution_count": null,
      "outputs": []
    },
    {
      "cell_type": "code",
      "source": [
        "# Task 12.3 Comlete teh code below to create confusion matrix using the results dataframe 'test_result' and the crosstab() function\n",
        "# Hint: Replace <<1>> by the appropriate function\n",
        "#############################################################\n",
        "cfm = <<1>>(test_result['y_act'], test_result['y_pred'])\n",
        "#############################################################\n",
        "cfm"
      ],
      "metadata": {
        "id": "R_xVnzbsSkK4"
      },
      "execution_count": null,
      "outputs": []
    },
    {
      "cell_type": "markdown",
      "source": [
        "* Accuracy"
      ],
      "metadata": {
        "id": "3p7LvnU_TnX5"
      }
    },
    {
      "cell_type": "code",
      "source": [
        "#############################################################\n",
        "# Task 12.4: Compute accuracy \n",
        "# Hint: Fill <<1>> with the appropriate function\n",
        "from sklearn import metrics\n",
        "acuracy_tc = metrics.<<1>>(test_result['y_act'], test_result['y_pred']) \n",
        "#############################################################\n",
        "acuracy_tc"
      ],
      "metadata": {
        "id": "bRLAk4P3SkNs"
      },
      "execution_count": null,
      "outputs": []
    },
    {
      "cell_type": "markdown",
      "metadata": {
        "id": "zboZ9_7qao8t"
      },
      "source": [
        "* Feature Importance"
      ]
    },
    {
      "cell_type": "code",
      "metadata": {
        "id": "dm9BOBcvYqUh"
      },
      "source": [
        "pd.DataFrame({'Feature': X_variables, 'Importance': model.feature_importances_}).sort_values(by='Importance', ascending=False)"
      ],
      "execution_count": null,
      "outputs": []
    },
    {
      "cell_type": "markdown",
      "metadata": {
        "id": "wQTrDDlMcCR_"
      },
      "source": [
        "<hr>\n",
        "Last update 2022-06-11 by Sumudu Tennakoon"
      ]
    }
  ]
}