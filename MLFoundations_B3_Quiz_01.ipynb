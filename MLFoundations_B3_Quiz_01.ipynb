{
  "nbformat": 4,
  "nbformat_minor": 0,
  "metadata": {
    "colab": {
      "name": "MLFoundations-B3-Quiz-01.ipynb",
      "provenance": [],
      "collapsed_sections": [],
      "include_colab_link": true
    },
    "kernelspec": {
      "name": "python3",
      "display_name": "Python 3"
    },
    "language_info": {
      "name": "python"
    }
  },
  "cells": [
    {
      "cell_type": "markdown",
      "metadata": {
        "id": "view-in-github",
        "colab_type": "text"
      },
      "source": [
        "<a href=\"https://colab.research.google.com/github/naminda/hello-world/blob/master/MLFoundations_B3_Quiz_01.ipynb\" target=\"_parent\"><img src=\"https://colab.research.google.com/assets/colab-badge.svg\" alt=\"Open In Colab\"/></a>"
      ]
    },
    {
      "cell_type": "markdown",
      "metadata": {
        "id": "yRJKZ3JzD1qv"
      },
      "source": [
        "# Dataset: Bank Marketing Data Set\n",
        "Source: UCI Machine Learning Repository [http://archive.ics.uci.edu/ml]"
      ]
    },
    {
      "cell_type": "markdown",
      "metadata": {
        "id": "bUH66kVQeLvz"
      },
      "source": [
        "# Student Name: << Type your Name Here >>\n",
        "# Date : << Type the date Here>>"
      ]
    },
    {
      "cell_type": "markdown",
      "metadata": {
        "id": "hEzWLTnPBgif"
      },
      "source": [
        "# Assignment Instructions\n",
        "* You will be given 12 tasks to complete the code cells.\n",
        "* Provide your code ONLY in between hash (#) lines.\n",
        "* Do not add or moidfy code outside the hash (#) lines\n",
        "* In some tasks, you may find place holders (<<?>>) to replace by a expression/variable/function to complete the code.\n",
        "* Example answer is provided for some tasks\n",
        "\n",
        "### Example:\n",
        "Task 0: create variable nameed `a` and assign value `3.14`. Then print the value of `a`.\n",
        "\n",
        "```python\n",
        "#create variable nameed a and assign value 3.14. Then print the value of a.\n",
        "###############################\n",
        "a = 3.14\n",
        "print(a)\n",
        "###############################\n",
        "```\n",
        "\n"
      ]
    },
    {
      "cell_type": "markdown",
      "metadata": {
        "id": "Dtumfyuk-9tg"
      },
      "source": [
        "## 1. Load Python Modules"
      ]
    },
    {
      "cell_type": "code",
      "metadata": {
        "id": "dOHDFQl3-gq6"
      },
      "source": [
        "import numpy as np\n",
        "import pandas as pd\n",
        "import matplotlib.pyplot as plt\n",
        "import seaborn as sns"
      ],
      "execution_count": null,
      "outputs": []
    },
    {
      "cell_type": "markdown",
      "metadata": {
        "id": "8PWD7IAT-6VZ"
      },
      "source": [
        "## 2. Acquire Data to Work"
      ]
    },
    {
      "cell_type": "markdown",
      "source": [
        "* Task 1: Load CSV File from the above URL into Pandas DataFrame."
      ],
      "metadata": {
        "id": "wDbpN4Aijl5I"
      }
    },
    {
      "cell_type": "code",
      "metadata": {
        "id": "cT5UlBts-1rg"
      },
      "source": [
        "file_name = 'https://raw.githubusercontent.com/SumuduTennakoon/MLFoundations/main/Datasets/bank_marketing_dataset.csv'\n",
        "\n",
        "# Task 1: Complete the code below to load CSV File from the above URL into Pandas DataFrame\n",
        "# Hint: Fill <<1>> with the appropriate function name\n",
        "#############################################################\n",
        "data = <<1>>(file_name, sep=',')\n",
        "#############################################################\n",
        "\n",
        "data.sample(5)"
      ],
      "execution_count": null,
      "outputs": []
    },
    {
      "cell_type": "markdown",
      "metadata": {
        "id": "-fIq4Fe0Eyl0"
      },
      "source": [
        "* Task 2: Find how many rows and columns this dataset. Use print stament display the value. \n",
        "> ![image.png](data:image/png;base64,iVBORw0KGgoAAAANSUhEUgAAAMMAAAAeCAYAAACR36pbAAACdUlEQVR4nO2ZsbGjMBRFaWNDlbEdOFDgWv68Hog2VwPbhWYI3YVcgkPCuwFPIAls8w1eA/+eGWYYQAjpciRhVyCEAACqTz8AIVuBMhCiUAZCFMpAiEIZCFEoAyEKZVCu1yuqqlp9a5rm000jM6EMCmXYNlP5nM9n1HWNpmlwuVwW10EZlB8hQ3CwxsAYA+vCp5/mW7wjnzIbyqD8CBkiXijDoWXwAqOjXrnNCZ4yfJgn+W1OhuBs/3Bx3xiLtF+9JA2xDqEoa8SP7pdel5UXgSTn3sleZBj63cAYgci8/s+YkkFfxhhPnpeHxDy0Xt+/vALfFeiWYP01ybmsmtfy3ZwMyBodm+nh/dBQmyeTBBLgZNzw4GQIswgpOHs/0JXZgwzB2Www6bIYZHjc/8iOT84MXpDeHsHBJjlLrCu5b3B2KFM8z6ieBfluVgaZnGI9RMpxIH/ZvXQjhZc4agU4m44eAc6abOQb3/EOh18mTQ8mSQc87f/h0hdlkH7U68uPZChlzW94P9+9LZNiA1+VodsPcM7r/nSZtC7LmUE5ggyjh5ud785kAHyxfh0FGByc0/K63EpDGZU/ogyjZeZ8grPFS9yNtMM7+qT/Iw9kGI7H74T1ZFiS78ZkKKc4k31waXOTj6d759M17oOPv+8ukxbyLhl+/f5Cnr9d1K6yj+b3/3R++bOk5S2cj+L+GY6L75c06Q8p8nf4D8OIz/7TiEItyXdjMhybtm3RNM3q2+12S2rpXsjN/ay5AyjD4fCQ/zjbHYm2bVHXNU6nE2UgpGTdWZsyENJDGQhRKAMhCmUgRKEMhCiUgRCFMhCiUAZCFMpAiPIPaeFymlrO/7UAAAAASUVORK5CYII=)"
      ]
    },
    {
      "cell_type": "code",
      "source": [
        "# Task 2: Complete the code below to print number of rows and columns.\n",
        "#############################################################\n",
        "rows = <<?>>\n",
        "columns = <<?>>\n",
        "#############################################################\n",
        "\n",
        "print(F\"rows = {rows}, columns={columns}\")"
      ],
      "metadata": {
        "id": "Pp-bGec9jKrJ"
      },
      "execution_count": null,
      "outputs": []
    },
    {
      "cell_type": "markdown",
      "source": [
        "* Task 3: Get Column Datails"
      ],
      "metadata": {
        "id": "XktT_EOaknLA"
      }
    },
    {
      "cell_type": "code",
      "source": [
        "# Task 3.1: Type your code below to display column names, data types and non null value counts as a table.\n",
        "# Note the columns with missing values.\n",
        "#############################################################\n",
        "\n",
        "#############################################################"
      ],
      "metadata": {
        "id": "GNBJzn6QkBMQ"
      },
      "execution_count": null,
      "outputs": []
    },
    {
      "cell_type": "code",
      "source": [
        "# Task 3.2: Replace the missing values of the columns you identified\n",
        "# Hint 1: 'days_since_previous_campaign_contact' should be -1 when no previous campaign contacts were made.\n",
        "# Hint 2: 'previous_campaign_contacts' should be 0 if no previous campaign contacts were made.\n",
        "# Hint 3: Ignore any missing value of 'age' column. We will work on that below.\n",
        "# Hint 4: Use fillna()\n",
        "#############################################################\n",
        "\n",
        "#############################################################"
      ],
      "metadata": {
        "id": "aQuBJ8KSxrJT"
      },
      "execution_count": null,
      "outputs": []
    },
    {
      "cell_type": "markdown",
      "metadata": {
        "id": "-x05UuDHDf6Q"
      },
      "source": [
        "## 4. Descriptive Statistics\n",
        " \n",
        "\n"
      ]
    },
    {
      "cell_type": "markdown",
      "metadata": {
        "id": "1RfOsP9_GEp8"
      },
      "source": [
        "* Task 4: Find and display min, max, mean, median and standard deviation of the column `legs`. You may choose from different methods to do this task. below is the output from one method.\n",
        "> ![image.png](data:image/png;base64,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)"
      ]
    },
    {
      "cell_type": "code",
      "metadata": {
        "id": "EoYRx_HWAY5_"
      },
      "source": [
        "# Task 4: Type your code below to find and display min, max, mean, median and standard deviation of the numeric columns.\n",
        "# Hint 1: Use percentiles list [0.05, 0.1, 0.25, 0.5, 0.7, 0.9, 0.95] in <<2>> to get custom percentile columns\n",
        "# Hint 2: Replace <<1>> by appropriate function\n",
        "#############################################################\n",
        "data.<<1>>(<<2>>)\n",
        "#############################################################\n"
      ],
      "execution_count": null,
      "outputs": []
    },
    {
      "cell_type": "markdown",
      "metadata": {
        "id": "N383f5PlHtHm"
      },
      "source": [
        "* Task 5 : Create a boxplot to visualize the deatils you found in Task 3.\n",
        "\n",
        "\n"
      ]
    },
    {
      "cell_type": "code",
      "metadata": {
        "id": "BuFthEWvGfoQ"
      },
      "source": [
        "# Task 5.1: Type your code to create a box plot using the columns 'age'\n",
        "#############################################################\n",
        "data['age'].plot(<<?>>)\n",
        "#############################################################"
      ],
      "execution_count": null,
      "outputs": []
    },
    {
      "cell_type": "code",
      "source": [
        "# Task 5.2: Remove outlier records based on the 'age' column\n",
        "# Hint: Drop entire row containing outlier value for 'age'\n",
        "#############################################################\n",
        "data.drop(<<?>>, inplace = True)\n",
        "#############################################################"
      ],
      "metadata": {
        "id": "0__9kiOCduq5"
      },
      "execution_count": null,
      "outputs": []
    },
    {
      "cell_type": "code",
      "source": [
        "# Task 5.3: Produce Box Plot after removing outliers\n",
        "#############################################################\n",
        "data['age'].plot(<<?>>)\n",
        "#############################################################"
      ],
      "metadata": {
        "id": "IqvAyGIenNO-"
      },
      "execution_count": null,
      "outputs": []
    },
    {
      "cell_type": "code",
      "metadata": {
        "id": "-8tS4ZLEJt9O"
      },
      "source": [
        "# Task 5.4: Get Descriptive Statistics for 'age' column only\n",
        "#############################################################\n",
        "\n",
        "#############################################################"
      ],
      "execution_count": null,
      "outputs": []
    },
    {
      "cell_type": "markdown",
      "source": [
        "Task 6: Get Age distribution by 'job_type'\n",
        "\n"
      ],
      "metadata": {
        "id": "03x5m9IKzc5q"
      }
    },
    {
      "cell_type": "code",
      "source": [
        "# Task 6.1: Find the median age by the the column 'job_type'\n",
        "# Hint: Use group by\n",
        "#############################################################\n",
        "data.groupby(<<?>>).agg({<<?>>:<<?>>})\n",
        "#############################################################"
      ],
      "metadata": {
        "id": "vCLjLiG_z1su"
      },
      "execution_count": null,
      "outputs": []
    },
    {
      "cell_type": "code",
      "source": [
        "# Task 6.2: Replace any missing value of the 'age' column by the median age for the 'job_type'\n",
        "# Hint: Use loc to isolate 'age' cells and isna() function to locate rows with missing values\n",
        "#############################################################\n",
        "data.loc[<<?>>, 'age']=<<?>>\n",
        "#############################################################"
      ],
      "metadata": {
        "id": "gDKRYcvU0Sea"
      },
      "execution_count": null,
      "outputs": []
    },
    {
      "cell_type": "markdown",
      "metadata": {
        "id": "TkBeZfMEKG1C"
      },
      "source": [
        "* Task 6: Understanding Categorical Columns"
      ]
    },
    {
      "cell_type": "code",
      "metadata": {
        "id": "rLRyQ-D-KXFP"
      },
      "source": [
        "# Task 6.1: Get descriptive statistics for the column 'education'\n",
        "#############################################################\n",
        "\n",
        "#############################################################"
      ],
      "execution_count": null,
      "outputs": []
    },
    {
      "cell_type": "code",
      "source": [
        "# Task 6.2: Get display freqeuncy table for the column 'education' \n",
        "# get row count for each category in the column 'education' \n",
        "#############################################################\n",
        "edu_value_counts = <<?>>\n",
        "#############################################################\n",
        "print(edu_value_counts)"
      ],
      "metadata": {
        "id": "jFnnWLbV2YRB"
      },
      "execution_count": null,
      "outputs": []
    },
    {
      "cell_type": "code",
      "source": [
        "# Task 6.3: If you notice any data issue in category labeling such as potential typo, correct those in the dataset. \n",
        "# Hint 1: Use replace or loc[] to replace the incorrect values with correct ones.\n",
        "# Hint 2: You should see two issues\n",
        "#############################################################\n",
        "data['education'].replace(<<?>>, <<?>>, inplace=True)\n",
        "data['education'].replace(<<?>>, <<?>>, inplace=True)\n",
        "#############################################################"
      ],
      "metadata": {
        "id": "liuEqrNG2soQ"
      },
      "execution_count": null,
      "outputs": []
    },
    {
      "cell_type": "code",
      "source": [
        "# Task 6.4: Get row count for each category in the column 'education'\n",
        "# Hint: Resuse what you did in 6.2 and verify the corrections being applied\n",
        "#############################################################\n",
        "edu_value_counts = <<?>>\n",
        "#############################################################\n",
        "print(edu_value_counts)"
      ],
      "metadata": {
        "id": "xWq0VRSG3kKw"
      },
      "execution_count": null,
      "outputs": []
    },
    {
      "cell_type": "code",
      "metadata": {
        "id": "loW2-4QKLnPp"
      },
      "source": [
        "# Task 6.4: Complete the code below <<?>>  to create bar plot for 'education' category column\n",
        "#############################################################\n",
        "edu_value_counts.plot(kind='<<?>>', ylabel='Count')\n",
        "#############################################################"
      ],
      "execution_count": null,
      "outputs": []
    },
    {
      "cell_type": "code",
      "source": [
        "# Task 6.5: Complete the code below to get unique values in the column 'is_subscribed' \n",
        "#############################################################\n",
        "subsc_unique = data['is_subscribed'].<<?>>()\n",
        "#############################################################\n",
        "print(subsc_unique)"
      ],
      "metadata": {
        "id": "gQBeP8j87vdH"
      },
      "execution_count": null,
      "outputs": []
    },
    {
      "cell_type": "code",
      "source": [
        "# Task 6.6: Complete the code below to display freqeuncy table for the column 'is_subscribed' \n",
        "# get row count for each category in the column 'education' \n",
        "#############################################################\n",
        "subsc_value_counts = <<?>>\n",
        "#############################################################\n",
        "print(subsc_value_counts)"
      ],
      "metadata": {
        "id": "9soW_LdG8XuJ"
      },
      "execution_count": null,
      "outputs": []
    },
    {
      "cell_type": "code",
      "source": [
        "# Task 6.7: It can take onlt tw values for 'is_subscribed' column {'yes', 'no'}\n",
        "# Hint: Use replace or loc\n",
        "#############################################################\n",
        "data['is_subscribed'].<<?>>(<<?>>, <<?>>, inplace=True)\n",
        "data['is_subscribed'].<<?>>(<<?>>, <<?>>, inplace=True)\n",
        "data['is_subscribed'].<<?>>(<<?>>, <<?>>, inplace=True)\n",
        "#############################################################\n"
      ],
      "metadata": {
        "id": "Exs_DyT18F_s"
      },
      "execution_count": null,
      "outputs": []
    },
    {
      "cell_type": "code",
      "source": [
        "# Task 6.8: Repeat what you did in Task 6.6 to verify the changes being appplied to teh dataset\n",
        "# get row count for each category in the column 'education' \n",
        "#############################################################\n",
        "subsc_value_counts = <<?>>\n",
        "#############################################################\n",
        "print(subsc_value_counts)"
      ],
      "metadata": {
        "id": "1HzOfBPV9lh2"
      },
      "execution_count": null,
      "outputs": []
    },
    {
      "cell_type": "code",
      "source": [
        "# Task 6.2: Get display freqeuncy table for the column 'job_type' \n",
        "# get row count for each category in the column 'job_type' \n",
        "#############################################################\n",
        "job_value_counts = <<?>>\n",
        "#############################################################\n",
        "print(job_value_counts)"
      ],
      "metadata": {
        "id": "ng1UYejAOYP3"
      },
      "execution_count": null,
      "outputs": []
    },
    {
      "cell_type": "code",
      "source": [
        "# Task 6.3: If you notice any data issue in category labeling such as potential typo, correct those in the dataset. \n",
        "# Hint 1: Use replace or loc[] to replace the incorrect values with correct ones.\n",
        "# Hint 2: You should see two issues\n",
        "#############################################################\n",
        "data['job_type'].<<?>>\n",
        "#############################################################\n",
        "data['job_type'].value_counts()"
      ],
      "metadata": {
        "id": "a5GZfpjgOkdn"
      },
      "execution_count": null,
      "outputs": []
    },
    {
      "cell_type": "code",
      "source": [
        "# Execute the code below to verify your value replacement worked.\n",
        "\n",
        "data['job_type'].value_counts()"
      ],
      "metadata": {
        "id": "jocs6nbTO2LW"
      },
      "execution_count": null,
      "outputs": []
    },
    {
      "cell_type": "markdown",
      "source": [
        "Task 7: Quering Data"
      ],
      "metadata": {
        "id": "DSzNZgSg5dgr"
      }
    },
    {
      "cell_type": "code",
      "metadata": {
        "id": "snt-kmPYLwRw"
      },
      "source": [
        "# Task 7.1: Display rows where 'average_yearly_balance' greater than 80,000\n",
        "# Hint: Use query() function\n",
        "#############################################################\n",
        "data.query(<<?>>)\n",
        "#############################################################"
      ],
      "execution_count": null,
      "outputs": []
    },
    {
      "cell_type": "code",
      "source": [
        "# Task 7.1: Count rows rows where 'average_yearly_balance' is negative (<0) and 'has_credit_in_default' is 'yes'\n",
        "# Hint: use shape attribute to get the row count of the result set\n",
        "#############################################################\n",
        "negative_bal_w_default_count = <<?>>\n",
        "#############################################################\n",
        "print(negative_bal_w_default_count)"
      ],
      "metadata": {
        "id": "hn45oWm76LZr"
      },
      "execution_count": null,
      "outputs": []
    },
    {
      "cell_type": "markdown",
      "source": [
        "Task 8: Encoding"
      ],
      "metadata": {
        "id": "nXaGPxPi7QdS"
      }
    },
    {
      "cell_type": "code",
      "metadata": {
        "id": "jzzGKl2XMXBH"
      },
      "source": [
        "# Task 8.1 Encode the columns 'has_credit_in_default',\t'has_housing_loan', \t'has_personal_loan' and 'is_subscribed' with the condition below\n",
        "# 'yes' -> 1\n",
        "# 'no' -> 0\n",
        "# Hint 1: You can use np.where()\n",
        "# Hint 2: You can apply this encoding one column at a time\n",
        "#############################################################\n",
        "data['has_credit_in_default'] = np.where(<<?>>, <<?>>, <<?>>)\n",
        "data['has_housing_loan'] = np.where(<<?>>, <<?>>, <<?>>)\n",
        "data['has_personal_loan'] = np.where(<<?>>, <<?>>, <<?>>)\n",
        "data['is_subscribed'] = np.where(<<?>>, <<?>>, <<?>>)\n",
        "#############################################################"
      ],
      "execution_count": null,
      "outputs": []
    },
    {
      "cell_type": "code",
      "source": [
        "# Task 8.2 Convert column 'previous_campaign_contacted' to binary follwoing the condition below\n",
        "# if previous_campaign_contacted > 1 then 1 \n",
        "# if previous_campaign_contacted == 0 or None then 0\n",
        "# Create a new column\n",
        "#############################################################\n",
        "data['previous_campaign_contacted'] =(<<?>>, <<?>>, <<?>>)\n",
        "#############################################################"
      ],
      "metadata": {
        "id": "RBkwk7slEIz_"
      },
      "execution_count": null,
      "outputs": []
    },
    {
      "cell_type": "code",
      "metadata": {
        "id": "6spfK_5TPTUz"
      },
      "source": [
        "# Task 8.3 Get the descriptive statistics of the columns 'has_credit_in_default',\t'has_housing_loan', \t'has_personal_loan', 'previous_campaign_contacted',  and 'is_subscribed'\n",
        "#############################################################\n",
        "data[['has_credit_in_default',\t'has_housing_loan', \t'has_personal_loan' , 'previous_campaign_contacted', 'is_subscribed' ]].<<?>>()\n",
        "#############################################################\n"
      ],
      "execution_count": null,
      "outputs": []
    },
    {
      "cell_type": "markdown",
      "source": [
        "* Task 9: Binning"
      ],
      "metadata": {
        "id": "vluyyaIcQ5kw"
      }
    },
    {
      "cell_type": "code",
      "source": [
        "edges = [-np.inf, 0, 100, 500, 1000, 5000, np.inf]\n",
        "# Task 9.1 complete the code below to convert numeric variable 'average_yearly_balance' to categorical variable using cut() function and list of edges above\n",
        "#############################################################\n",
        "data['avg_yearly_balance_bin'] = pd.cut(<<?>>, <<?>>)#, labels=labels)\n",
        "#############################################################"
      ],
      "metadata": {
        "id": "vrS2rDk6Q0pL"
      },
      "execution_count": null,
      "outputs": []
    },
    {
      "cell_type": "code",
      "source": [
        "# Execute the code below to verify your encoding worked.\n",
        "data['avg_yearly_balance_bin'].value_counts()"
      ],
      "metadata": {
        "id": "0pzd1f1SSg-Q"
      },
      "execution_count": null,
      "outputs": []
    },
    {
      "cell_type": "code",
      "source": [
        "edges = [0, 1, 2, 5, np.inf]\n",
        "# Task 9.2 complete the code below to convert numeric variable 'number_of_contacts' to categorical variable using cut() function and list of edges above\n",
        "#############################################################\n",
        "data['number_of_contacts_bin'] = <<?>>\n",
        "#############################################################"
      ],
      "metadata": {
        "id": "sWVags65LRxf"
      },
      "execution_count": null,
      "outputs": []
    },
    {
      "cell_type": "code",
      "source": [
        "# Execute the code below to verify your encoding worked.\n",
        "data['number_of_contacts_bin'].value_counts()"
      ],
      "metadata": {
        "id": "fDKogM-vN0UE"
      },
      "execution_count": null,
      "outputs": []
    },
    {
      "cell_type": "code",
      "source": [
        "edges = [0, 30, 45, 60,  np.inf]\n",
        "# Task 9.3 complete the code below to convert numeric variable 'age' to categorical variable using cut() function and list of edges above\n",
        "#############################################################\n",
        "data['age_bin'] = <<?>>\n",
        "#############################################################\n"
      ],
      "metadata": {
        "id": "PcBIH8X8GtDv"
      },
      "execution_count": null,
      "outputs": []
    },
    {
      "cell_type": "code",
      "source": [
        "# Execute the code below to verify your encoding worked.\n",
        "data['age_bin'].value_counts()"
      ],
      "metadata": {
        "id": "M2K4NANcGvDz"
      },
      "execution_count": null,
      "outputs": []
    },
    {
      "cell_type": "markdown",
      "source": [
        "* One-hot encoding categorical variables"
      ],
      "metadata": {
        "id": "JCk6PWWsN8ri"
      }
    },
    {
      "cell_type": "code",
      "source": [
        "# Execute teh code below to create dummy variables from categorical columns\n",
        "data = pd.concat([data, pd.get_dummies(data[['education', 'job_type', 'marital_status', 'contact_type', \n",
        "                                             'previous_campaign_outcome', 'avg_yearly_balance_bin', 'age_bin', 'number_of_contacts_bin']])], axis=1)"
      ],
      "metadata": {
        "id": "gR1AUrm1y7ne"
      },
      "execution_count": null,
      "outputs": []
    },
    {
      "cell_type": "markdown",
      "source": [
        "* Task 10: Get Corrrection Matrix"
      ],
      "metadata": {
        "id": "DQ3zPFDnS631"
      }
    },
    {
      "cell_type": "code",
      "source": [
        "# Task 10 Complete the code below to get correlation matrix for numeric columns in the lsit below (including the converted ones)\n",
        "# Hint 1: replace <<1>> with corr_columns_list\n",
        "# Hint 2: replace <<2>> with the appropriate function\n",
        "corr_columns_list = ['age', 'job_type', 'marital_status', 'education', 'has_credit_in_default', 'has_housing_loan',\n",
        "       'has_personal_loan',  'avg_yearly_balance_bin', 'number_of_contacts', 'is_subscribed']\n",
        "\n",
        "#############################################################\n",
        "data[<<?>>].<<?>>()\n",
        "#############################################################"
      ],
      "metadata": {
        "id": "s30JbJIkS4rv"
      },
      "execution_count": null,
      "outputs": []
    },
    {
      "cell_type": "markdown",
      "metadata": {
        "id": "Zju6GddqOWuq"
      },
      "source": [
        "# 5. Building a Machine Learning model"
      ]
    },
    {
      "cell_type": "markdown",
      "source": [
        "* Sample Dataset to reduce imbalanceness"
      ],
      "metadata": {
        "id": "EHnILsqDOoua"
      }
    },
    {
      "cell_type": "code",
      "source": [
        "# Execute the code below to reduce imbalanceness.\n",
        "data = data.query(\"is_subscribed==1\").sample(5000).append(data.query(\"is_subscribed==0\").sample(15000))"
      ],
      "metadata": {
        "id": "xDgOdYYQAYyP"
      },
      "execution_count": null,
      "outputs": []
    },
    {
      "cell_type": "code",
      "source": [
        "model_columns_list = ['has_credit_in_default', 'has_housing_loan', 'has_personal_loan',\n",
        "      'education_primary', 'education_secondary', 'education_tertiary', 'education_unknown',\n",
        "       'job_type_admin', 'job_type_blue-collar', 'job_type_entrepreneur',\n",
        "       'job_type_housemaid', 'job_type_management', 'job_type_retired',\n",
        "       'job_type_self-employed', 'job_type_services', 'job_type_student',\n",
        "       'job_type_technician', 'job_type_unemployed', 'job_type_unknown',\n",
        "       'marital_status_divorced', 'marital_status_married', 'marital_status_single', \n",
        "       'contact_type_cellular', 'contact_type_telephone', 'contact_type_unknown', \n",
        "       'previous_campaign_outcome_failure','previous_campaign_outcome_other', 'previous_campaign_outcome_success', 'previous_campaign_outcome_unknown', \n",
        "       'avg_yearly_balance_bin_(-inf, 0.0]', 'avg_yearly_balance_bin_(0.0, 100.0]',\n",
        "       'avg_yearly_balance_bin_(100.0, 500.0]', 'avg_yearly_balance_bin_(500.0, 1000.0]',\n",
        "       'avg_yearly_balance_bin_(1000.0, 5000.0]', 'avg_yearly_balance_bin_(5000.0, inf]', \n",
        "       'age_bin_(0.0, 30.0]', 'age_bin_(30.0, 45.0]', 'age_bin_(45.0, 60.0]', 'age_bin_(60.0, inf]',\n",
        "       'number_of_contacts_bin_(0.0, 1.0]', 'number_of_contacts_bin_(1.0, 2.0]',\n",
        "       'number_of_contacts_bin_(2.0, 5.0]', 'number_of_contacts_bin_(5.0, inf]', 'is_subscribed']"
      ],
      "metadata": {
        "id": "GBJQwLkWKLsF"
      },
      "execution_count": null,
      "outputs": []
    },
    {
      "cell_type": "markdown",
      "source": [
        "* Task 11: Identifying X Variables and y variable (target) then train-test split"
      ],
      "metadata": {
        "id": "LhZyGrcID59D"
      }
    },
    {
      "cell_type": "code",
      "metadata": {
        "id": "bGiKsFXzM7rY"
      },
      "source": [
        "# Task 11.1: From teh columns in the list 'model_columns_list' above, identify indepenet (X) and dependent (y) variables and complete the code below. \n",
        "# Hint 1: You can type or copy the column names from the 'model_columns_list'.\n",
        "# Hint 2 : Replace <<?>>\n",
        "#############################################################\n",
        "X_variables = [<<?>>]\n",
        "      \n",
        "y_variable = '<<?>>'\n",
        "#############################################################\n",
        "\n",
        "print(F\"X_variables = {X_variables}\")\n",
        "print(F\"y_variable = {y_variable}\")"
      ],
      "execution_count": null,
      "outputs": []
    },
    {
      "cell_type": "code",
      "source": [
        "# Task 11.2: Split dataset into training and testing using\n",
        "# Hint 1: Replace <<1>> by the appropriate function name\n",
        "# Hint 2: Replace  <<2>>, <<3>> by appropriate variables created in the task 11.1\n",
        "#############################################################\n",
        "from sklearn.model_selection import <<1>>\n",
        "X_train, X_test, y_train, y_test = <<1>>(data[<<2>>], data[<<3>>], test_size=0.3, random_state=42)\n",
        "#############################################################\n",
        "\n",
        "print(F\"X_train = {X_train.shape[0]}\")\n",
        "print(F\"y_train = {len(y_train)}\")\n",
        "print(F\"X_test = {X_test.shape[0]}\")\n",
        "print(F\"y_test = {len(y_test)}\")"
      ],
      "metadata": {
        "id": "LAZ6g86xUPIv"
      },
      "execution_count": null,
      "outputs": []
    },
    {
      "cell_type": "code",
      "source": [
        "# Execute code below to display first five rows of the feature datset\n",
        "X_train.head()"
      ],
      "metadata": {
        "id": "qkSiCVOcPUuI"
      },
      "execution_count": null,
      "outputs": []
    },
    {
      "cell_type": "markdown",
      "source": [
        "* Task 12:  Train Classification Model and predict"
      ],
      "metadata": {
        "id": "tAWdKtpjCfdL"
      }
    },
    {
      "cell_type": "code",
      "metadata": {
        "id": "VxZYPsMJd5d1"
      },
      "source": [
        "# Task 12.1 Train model\n",
        "# Hint 1: Replace <<1>> by the appropriate class name to create RandomForest model object\n",
        "# Hint 2: Replace <<2>> by the appropriate function name \n",
        "#############################################################\n",
        "from sklearn.tree import RandomForestClassifier\n",
        "model = <<1>>(random_state=0, max_depth=5, min_samples_split=5)\n",
        "model.<<2>>(X_train, y_train)\n",
        "#############################################################"
      ],
      "execution_count": null,
      "outputs": []
    },
    {
      "cell_type": "code",
      "metadata": {
        "id": "B24PH6jJd-3B"
      },
      "source": [
        "# Execute teh code below to get class labels\n",
        "class_labels = [str(c) for c in model.classes_]\n",
        "class_labels "
      ],
      "execution_count": null,
      "outputs": []
    },
    {
      "cell_type": "code",
      "source": [
        "# Task 12.2 Make predictions\n",
        "#############################################################\n",
        "y_pred_prob = model.<<1>>(X_test)\n",
        "y_pred = model.<<2>>(X_test)\n",
        "#############################################################"
      ],
      "metadata": {
        "id": "ENtHgGHdSazQ"
      },
      "execution_count": null,
      "outputs": []
    },
    {
      "cell_type": "code",
      "source": [
        "# Execute the code below to construct results dataframe\n",
        "test_result = pd.DataFrame(data={'y_act':y_test, 'y_pred':y_pred, 'y_pred_prob':y_pred_prob})\n",
        "test_result.sample(5)"
      ],
      "metadata": {
        "id": "G9e-HGEjSkGl"
      },
      "execution_count": null,
      "outputs": []
    },
    {
      "cell_type": "code",
      "source": [
        "# Task 12.3 Comlete teh code below to create confusion matrix using the results dataframe 'test_result' and the crosstab() function\n",
        "# Hint: Replace <<1>> by the appropriate function\n",
        "#############################################################\n",
        "cfm = <<1>>(test_result['y_act'], test_result['y_pred'])\n",
        "#############################################################\n",
        "cfm"
      ],
      "metadata": {
        "id": "R_xVnzbsSkK4"
      },
      "execution_count": null,
      "outputs": []
    },
    {
      "cell_type": "markdown",
      "source": [
        "* Accuracy"
      ],
      "metadata": {
        "id": "3p7LvnU_TnX5"
      }
    },
    {
      "cell_type": "code",
      "source": [
        "#############################################################\n",
        "# Task 12.4: Compute accuracy \n",
        "# Hint: Fill <<1>> with the appropriate function\n",
        "from sklearn import metrics\n",
        "acuracy_tc = metrics.<<1>>(test_result['y_act'], test_result['y_pred']) \n",
        "#############################################################\n",
        "acuracy_tc"
      ],
      "metadata": {
        "id": "bRLAk4P3SkNs"
      },
      "execution_count": null,
      "outputs": []
    },
    {
      "cell_type": "markdown",
      "metadata": {
        "id": "zboZ9_7qao8t"
      },
      "source": [
        "* Feature Importance"
      ]
    },
    {
      "cell_type": "code",
      "metadata": {
        "id": "dm9BOBcvYqUh"
      },
      "source": [
        "pd.DataFrame({'Feature': X_variables, 'Importance': model.feature_importances_}).sort_values(by='Importance', ascending=False)"
      ],
      "execution_count": null,
      "outputs": []
    },
    {
      "cell_type": "markdown",
      "metadata": {
        "id": "wQTrDDlMcCR_"
      },
      "source": [
        "<hr>\n",
        "Last update 2022-06-11 by Sumudu Tennakoon"
      ]
    }
  ]
}